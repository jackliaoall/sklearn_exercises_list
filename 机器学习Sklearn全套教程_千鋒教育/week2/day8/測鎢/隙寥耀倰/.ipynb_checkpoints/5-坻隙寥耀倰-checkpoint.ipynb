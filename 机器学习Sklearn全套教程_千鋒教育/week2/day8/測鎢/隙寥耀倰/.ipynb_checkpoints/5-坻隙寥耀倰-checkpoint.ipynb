{
 "cells": [
  {
   "cell_type": "code",
   "execution_count": 8,
   "metadata": {},
   "outputs": [],
   "source": [
    "import numpy as np\n",
    "import matplotlib.pyplot as plt\n",
    "%matplotlib inline\n",
    "from sklearn.model_selection import train_test_split\n",
    "from sklearn.metrics import mean_squared_error,r2_score\n",
    "from sklearn import datasets\n",
    "# CV crosss validation ：交叉验证\n",
    "from sklearn.linear_model import LinearRegression,Ridge,Lasso,ElasticNet,ElasticNetCV,LassoCV"
   ]
  },
  {
   "cell_type": "code",
   "execution_count": 3,
   "metadata": {},
   "outputs": [],
   "source": [
    "diabetes = datasets.load_diabetes()\n",
    "X = diabetes['data']\n",
    "y = diabetes['target']"
   ]
  },
  {
   "cell_type": "code",
   "execution_count": 6,
   "metadata": {},
   "outputs": [],
   "source": [
    "X_train,X_test,y_train,y_test = train_test_split(X,y,test_size = 0.15)"
   ]
  },
  {
   "cell_type": "code",
   "execution_count": 7,
   "metadata": {},
   "outputs": [
    {
     "data": {
      "text/plain": [
       "0.508409427784998"
      ]
     },
     "execution_count": 7,
     "metadata": {},
     "output_type": "execute_result"
    }
   ],
   "source": [
    "lr = LinearRegression()\n",
    "\n",
    "lr.fit(X_train,y_train)\n",
    "\n",
    "# 回归问题的得分，不是准确率\n",
    "lr.score(X_test,y_test)"
   ]
  },
  {
   "cell_type": "code",
   "execution_count": null,
   "metadata": {},
   "outputs": [],
   "source": [
    "'''The coefficient R^2 is defined as (1 - u/v), where u is the residual\n",
    "sum of squares ((y_true - y_pred) ** 2).sum() and v is the total\n",
    "sum of squares ((y_true - y_true.mean()) ** 2).sum().'''"
   ]
  },
  {
   "cell_type": "code",
   "execution_count": 13,
   "metadata": {},
   "outputs": [
    {
     "data": {
      "text/plain": [
       "0.508409427784998"
      ]
     },
     "execution_count": 13,
     "metadata": {},
     "output_type": "execute_result"
    }
   ],
   "source": [
    "u = ((y_test - y_)**2).sum()\n",
    "v = ((y_test - y_test.mean())**2).sum()\n",
    "r2 = 1 - u/v\n",
    "r2"
   ]
  },
  {
   "cell_type": "code",
   "execution_count": 10,
   "metadata": {
    "collapsed": true
   },
   "outputs": [
    {
     "data": {
      "text/plain": [
       "array([192.,  85., 134., 138., 264., 191., 142., 141., 291.,  91., 253.,\n",
       "       174., 164., 153., 167.,  83., 229., 169.,  92., 206., 174.,  78.,\n",
       "       197.,  53., 163., 157., 104., 139., 211., 106.,  77., 125., 117.,\n",
       "       170.,  82., 183., 162., 164., 218., 228., 181., 126., 169., 100.,\n",
       "       120.,  69., 211., 168., 111., 169., 187., 204., 163., 133., 154.,\n",
       "       157., 165.,  76., 153.,  82., 114., 115.,  97., 148.,  71., 186.,\n",
       "       165.])"
      ]
     },
     "metadata": {},
     "output_type": "display_data"
    },
    {
     "data": {
      "text/plain": [
       "array([164., 181., 124., 142., 308., 122., 185., 168., 270.,  74., 281.,\n",
       "        52., 109., 246., 181.,  92.,  99., 122.,  91., 265., 143.,  59.,\n",
       "       131.,  48., 216.,  55.,  65.,  93., 288., 118.,  77.,  97.,  61.,\n",
       "       258.,  51., 163., 144., 185., 296., 281., 141., 135., 171.,  69.,\n",
       "       177.,  83., 220., 235., 109., 138., 257., 297., 151., 170., 210.,\n",
       "       259., 110.,  55., 185.,  42.,  87.,  96.,  84.,  97., 134., 129.,\n",
       "       131.])"
      ]
     },
     "metadata": {},
     "output_type": "display_data"
    }
   ],
   "source": [
    "y_ = lr.predict(X_test)\n",
    "display(y_.round(0),y_test)"
   ]
  },
  {
   "cell_type": "code",
   "execution_count": 11,
   "metadata": {},
   "outputs": [
    {
     "data": {
      "text/plain": [
       "0.508409427784998"
      ]
     },
     "execution_count": 11,
     "metadata": {},
     "output_type": "execute_result"
    }
   ],
   "source": [
    "r2_score(y_test,y_)"
   ]
  },
  {
   "cell_type": "code",
   "execution_count": 14,
   "metadata": {},
   "outputs": [
    {
     "data": {
      "text/plain": [
       "2684.848466337077"
      ]
     },
     "execution_count": 14,
     "metadata": {},
     "output_type": "execute_result"
    }
   ],
   "source": [
    "mean_squared_error(y_test,y_)"
   ]
  },
  {
   "cell_type": "markdown",
   "metadata": {},
   "source": [
    "### 使用领回归"
   ]
  },
  {
   "cell_type": "code",
   "execution_count": 21,
   "metadata": {},
   "outputs": [
    {
     "name": "stdout",
     "output_type": "stream",
     "text": [
      "0.508409427784998\n"
     ]
    },
    {
     "data": {
      "text/plain": [
       "2684.848466337077"
      ]
     },
     "execution_count": 21,
     "metadata": {},
     "output_type": "execute_result"
    }
   ],
   "source": [
    "lr = LinearRegression()\n",
    "\n",
    "lr.fit(X_train,y_train)\n",
    "\n",
    "print(lr.score(X_test,y_test))\n",
    "\n",
    "y_ = lr.predict(X_test)\n",
    "\n",
    "mean_squared_error(y_test,y_)"
   ]
  },
  {
   "cell_type": "code",
   "execution_count": 23,
   "metadata": {},
   "outputs": [
    {
     "name": "stdout",
     "output_type": "stream",
     "text": [
      "0.5077536734066447\n"
     ]
    },
    {
     "data": {
      "text/plain": [
       "2688.429904298921"
      ]
     },
     "execution_count": 23,
     "metadata": {},
     "output_type": "execute_result"
    }
   ],
   "source": [
    "rigde = Ridge(alpha=0.001)\n",
    "\n",
    "rigde.fit(X_train,y_train)\n",
    "\n",
    "print(rigde.score(X_test,y_test))\n",
    "\n",
    "y_ = rigde.predict(X_test)\n",
    "\n",
    "mean_squared_error(y_test,y_)"
   ]
  },
  {
   "cell_type": "code",
   "execution_count": 24,
   "metadata": {},
   "outputs": [],
   "source": [
    "from sklearn.linear_model import RidgeCV"
   ]
  },
  {
   "cell_type": "code",
   "execution_count": 43,
   "metadata": {},
   "outputs": [
    {
     "data": {
      "text/plain": [
       "0.5021580806301859"
      ]
     },
     "execution_count": 43,
     "metadata": {},
     "output_type": "execute_result"
    }
   ],
   "source": [
    "ridgeCV = RidgeCV(alphas=np.logspace(-5,1,50),scoring='r2',cv = 6)\n",
    "\n",
    "ridgeCV.fit(X_train,y_train)\n",
    "\n",
    "y_ = ridgeCV.predict(X_test)\n",
    "r2_score(y_test,y_)"
   ]
  },
  {
   "cell_type": "code",
   "execution_count": 47,
   "metadata": {},
   "outputs": [
    {
     "data": {
      "text/plain": [
       "0.5006336933433428"
      ]
     },
     "execution_count": 47,
     "metadata": {},
     "output_type": "execute_result"
    }
   ],
   "source": [
    "ridgeCV = RidgeCV(alphas=np.linspace(0.01,5,50),scoring='r2',cv = 6)\n",
    "\n",
    "ridgeCV.fit(X_train,y_train)\n",
    "\n",
    "y_ = ridgeCV.predict(X_test)\n",
    "r2_score(y_test,y_)"
   ]
  }
 ],
 "metadata": {
  "kernelspec": {
   "display_name": "Python 3",
   "language": "python",
   "name": "python3"
  },
  "language_info": {
   "codemirror_mode": {
    "name": "ipython",
    "version": 3
   },
   "file_extension": ".py",
   "mimetype": "text/x-python",
   "name": "python",
   "nbconvert_exporter": "python",
   "pygments_lexer": "ipython3",
   "version": "3.6.8"
  }
 },
 "nbformat": 4,
 "nbformat_minor": 2
}

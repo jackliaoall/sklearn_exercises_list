{
 "cells": [
  {
   "cell_type": "code",
   "execution_count": 1,
   "metadata": {
    "collapsed": true
   },
   "outputs": [
    {
     "name": "stderr",
     "output_type": "stream",
     "text": [
      "d:\\python3.6.8\\lib\\importlib\\_bootstrap.py:219: RuntimeWarning: numpy.ufunc size changed, may indicate binary incompatibility. Expected 192 from C header, got 216 from PyObject\n",
      "  return f(*args, **kwds)\n"
     ]
    }
   ],
   "source": [
    "import numpy as np\n",
    "\n",
    "from sklearn import datasets\n",
    "\n",
    "from sklearn.linear_model import LogisticRegression"
   ]
  },
  {
   "cell_type": "markdown",
   "metadata": {},
   "source": [
    "### 二分类，逻辑斯蒂回归概率计算"
   ]
  },
  {
   "cell_type": "code",
   "execution_count": 4,
   "metadata": {
    "collapsed": true
   },
   "outputs": [
    {
     "data": {
      "text/plain": [
       "[array([[5.8, 4. , 1.2, 0.2],\n",
       "        [5.6, 2.9, 3.6, 1.3],\n",
       "        [4.6, 3.4, 1.4, 0.3],\n",
       "        [5.4, 3.4, 1.5, 0.4],\n",
       "        [5.3, 3.7, 1.5, 0.2],\n",
       "        [5.4, 3.7, 1.5, 0.2],\n",
       "        [6.1, 2.8, 4.7, 1.2],\n",
       "        [5.8, 2.6, 4. , 1.2],\n",
       "        [5.1, 3.8, 1.6, 0.2],\n",
       "        [5.5, 2.4, 3.7, 1. ],\n",
       "        [6. , 3.4, 4.5, 1.6],\n",
       "        [5.5, 4.2, 1.4, 0.2],\n",
       "        [6.4, 3.2, 4.5, 1.5],\n",
       "        [6.6, 3. , 4.4, 1.4],\n",
       "        [5. , 3.2, 1.2, 0.2],\n",
       "        [5.1, 3.7, 1.5, 0.4],\n",
       "        [6.8, 2.8, 4.8, 1.4],\n",
       "        [5.1, 3.5, 1.4, 0.3],\n",
       "        [5. , 3.5, 1.3, 0.3],\n",
       "        [5. , 3.3, 1.4, 0.2],\n",
       "        [5. , 2.3, 3.3, 1. ],\n",
       "        [5.9, 3. , 4.2, 1.5],\n",
       "        [5.1, 3.4, 1.5, 0.2],\n",
       "        [4.8, 3.4, 1.9, 0.2],\n",
       "        [5.7, 2.6, 3.5, 1. ],\n",
       "        [4.3, 3. , 1.1, 0.1],\n",
       "        [4.4, 3. , 1.3, 0.2],\n",
       "        [4.6, 3.1, 1.5, 0.2],\n",
       "        [5. , 3.4, 1.5, 0.2],\n",
       "        [6.9, 3.1, 4.9, 1.5],\n",
       "        [4.8, 3.4, 1.6, 0.2],\n",
       "        [6.2, 2.2, 4.5, 1.5],\n",
       "        [6.2, 2.9, 4.3, 1.3],\n",
       "        [6. , 2.9, 4.5, 1.5],\n",
       "        [5.1, 3.8, 1.5, 0.3],\n",
       "        [5.7, 4.4, 1.5, 0.4],\n",
       "        [5.1, 3.5, 1.4, 0.2],\n",
       "        [4.6, 3.2, 1.4, 0.2],\n",
       "        [4.4, 3.2, 1.3, 0.2],\n",
       "        [5. , 3. , 1.6, 0.2],\n",
       "        [5.9, 3.2, 4.8, 1.8],\n",
       "        [6.7, 3.1, 4.7, 1.5],\n",
       "        [6.1, 3. , 4.6, 1.4],\n",
       "        [5.7, 2.8, 4.1, 1.3],\n",
       "        [6. , 2.7, 5.1, 1.6],\n",
       "        [6.6, 2.9, 4.6, 1.3],\n",
       "        [5.4, 3.9, 1.7, 0.4],\n",
       "        [6.1, 2.9, 4.7, 1.4],\n",
       "        [7. , 3.2, 4.7, 1.4],\n",
       "        [6.1, 2.8, 4. , 1.3],\n",
       "        [5.6, 3. , 4.1, 1.3],\n",
       "        [4.9, 3. , 1.4, 0.2],\n",
       "        [5.5, 2.4, 3.8, 1.1],\n",
       "        [5. , 3.4, 1.6, 0.4],\n",
       "        [5.7, 3. , 4.2, 1.2],\n",
       "        [6.5, 2.8, 4.6, 1.5],\n",
       "        [4.9, 2.4, 3.3, 1. ],\n",
       "        [5.7, 2.8, 4.5, 1.3],\n",
       "        [4.6, 3.6, 1. , 0.2],\n",
       "        [4.9, 3.1, 1.5, 0.1],\n",
       "        [6.3, 2.5, 4.9, 1.5],\n",
       "        [5.5, 3.5, 1.3, 0.2],\n",
       "        [5.8, 2.7, 4.1, 1. ],\n",
       "        [6.4, 2.9, 4.3, 1.3],\n",
       "        [5. , 2. , 3.5, 1. ],\n",
       "        [5.6, 2.5, 3.9, 1.1],\n",
       "        [5.2, 4.1, 1.5, 0.1],\n",
       "        [6. , 2.2, 4. , 1. ],\n",
       "        [4.8, 3. , 1.4, 0.3],\n",
       "        [5.2, 3.5, 1.5, 0.2],\n",
       "        [5.1, 3.8, 1.9, 0.4],\n",
       "        [5.7, 2.9, 4.2, 1.3],\n",
       "        [6.7, 3. , 5. , 1.7],\n",
       "        [4.5, 2.3, 1.3, 0.3],\n",
       "        [5.4, 3.4, 1.7, 0.2],\n",
       "        [6.7, 3.1, 4.4, 1.4],\n",
       "        [5.1, 2.5, 3. , 1.1],\n",
       "        [5. , 3.5, 1.6, 0.6],\n",
       "        [5.6, 3. , 4.5, 1.5],\n",
       "        [4.4, 2.9, 1.4, 0.2]]), array([[4.9, 3.1, 1.5, 0.2],\n",
       "        [4.7, 3.2, 1.6, 0.2],\n",
       "        [5.4, 3. , 4.5, 1.5],\n",
       "        [6.3, 3.3, 4.7, 1.6],\n",
       "        [5.1, 3.3, 1.7, 0.5],\n",
       "        [5.4, 3.9, 1.3, 0.4],\n",
       "        [6.3, 2.3, 4.4, 1.3],\n",
       "        [5.5, 2.5, 4. , 1.3],\n",
       "        [5.7, 3.8, 1.7, 0.3],\n",
       "        [5.6, 2.7, 4.2, 1.3],\n",
       "        [5.5, 2.6, 4.4, 1.2],\n",
       "        [5. , 3.6, 1.4, 0.2],\n",
       "        [4.9, 3.6, 1.4, 0.1],\n",
       "        [4.8, 3. , 1.4, 0.1],\n",
       "        [5.2, 3.4, 1.4, 0.2],\n",
       "        [4.7, 3.2, 1.3, 0.2],\n",
       "        [5.8, 2.7, 3.9, 1.2],\n",
       "        [5.2, 2.7, 3.9, 1.4],\n",
       "        [4.8, 3.1, 1.6, 0.2],\n",
       "        [5.5, 2.3, 4. , 1.3]]), array([0, 1, 0, 0, 0, 0, 1, 1, 0, 1, 1, 0, 1, 1, 0, 0, 1, 0, 0, 0, 1, 1,\n",
       "        0, 0, 1, 0, 0, 0, 0, 1, 0, 1, 1, 1, 0, 0, 0, 0, 0, 0, 1, 1, 1, 1,\n",
       "        1, 1, 0, 1, 1, 1, 1, 0, 1, 0, 1, 1, 1, 1, 0, 0, 1, 0, 1, 1, 1, 1,\n",
       "        0, 1, 0, 0, 0, 1, 1, 0, 0, 1, 1, 0, 1, 0]), array([0, 0, 1, 1, 0, 0, 1, 1, 0, 1, 1, 0, 0, 0, 0, 0, 1, 1, 0, 1])]"
      ]
     },
     "execution_count": 4,
     "metadata": {},
     "output_type": "execute_result"
    }
   ],
   "source": [
    "X,y = datasets.load_iris(True)\n",
    "\n",
    "cond = y!=2\n",
    "\n",
    "X = X[cond]\n",
    "y = y[cond]\n",
    "\n",
    "from sklearn.model_selection import train_test_split\n",
    "\n",
    "result = train_test_split(X,y,test_size = 0.2)\n",
    "result"
   ]
  },
  {
   "cell_type": "code",
   "execution_count": 36,
   "metadata": {
    "collapsed": true
   },
   "outputs": [
    {
     "name": "stdout",
     "output_type": "stream",
     "text": [
      "[[-0.36224577 -1.40337258  2.13040678  0.94118034]] [-0.24881956]\n"
     ]
    },
    {
     "name": "stderr",
     "output_type": "stream",
     "text": [
      "d:\\python3.6.8\\lib\\site-packages\\sklearn\\linear_model\\logistic.py:432: FutureWarning: Default solver will be changed to 'lbfgs' in 0.22. Specify a solver to silence this warning.\n",
      "  FutureWarning)\n"
     ]
    }
   ],
   "source": [
    "lr = LogisticRegression()\n",
    "\n",
    "lr.fit(result[0],result[2])\n",
    "\n",
    "w = lr.coef_\n",
    "b = lr.intercept_\n",
    "print(w,b)"
   ]
  },
  {
   "cell_type": "code",
   "execution_count": 10,
   "metadata": {
    "collapsed": true
   },
   "outputs": [
    {
     "data": {
      "text/plain": [
       "array([[0.95214003, 0.04785997],\n",
       "       [0.94507419, 0.05492581],\n",
       "       [0.01011533, 0.98988467],\n",
       "       [0.0126583 , 0.9873417 ],\n",
       "       [0.93308798, 0.06691202],\n",
       "       [0.98935643, 0.01064357],\n",
       "       [0.00785593, 0.99214407],\n",
       "       [0.01806482, 0.98193518],\n",
       "       [0.97685118, 0.02314882],\n",
       "       [0.01622664, 0.98377336],\n",
       "       [0.00982194, 0.99017806],\n",
       "       [0.98094869, 0.01905131],\n",
       "       [0.98200103, 0.01799897],\n",
       "       [0.9577519 , 0.0422481 ],\n",
       "       [0.9766415 , 0.0233585 ],\n",
       "       [0.97024069, 0.02975931],\n",
       "       [0.03560373, 0.96439627],\n",
       "       [0.02401812, 0.97598188],\n",
       "       [0.93941257, 0.06058743],\n",
       "       [0.01370448, 0.98629552]])"
      ]
     },
     "execution_count": 10,
     "metadata": {},
     "output_type": "execute_result"
    }
   ],
   "source": [
    "# X_test = result[1]\n",
    "proba_ = lr.predict_proba(result[1])\n",
    "proba_"
   ]
  },
  {
   "cell_type": "code",
   "execution_count": 34,
   "metadata": {
    "collapsed": true
   },
   "outputs": [
    {
     "data": {
      "text/plain": [
       "array([[0.95214003, 0.04785997],\n",
       "       [0.94507419, 0.05492581],\n",
       "       [0.01011533, 0.98988467],\n",
       "       [0.0126583 , 0.9873417 ],\n",
       "       [0.93308798, 0.06691202],\n",
       "       [0.98935643, 0.01064357],\n",
       "       [0.00785593, 0.99214407],\n",
       "       [0.01806482, 0.98193518],\n",
       "       [0.97685118, 0.02314882],\n",
       "       [0.01622664, 0.98377336],\n",
       "       [0.00982194, 0.99017806],\n",
       "       [0.98094869, 0.01905131],\n",
       "       [0.98200103, 0.01799897],\n",
       "       [0.9577519 , 0.0422481 ],\n",
       "       [0.9766415 , 0.0233585 ],\n",
       "       [0.97024069, 0.02975931],\n",
       "       [0.03560373, 0.96439627],\n",
       "       [0.02401812, 0.97598188],\n",
       "       [0.93941257, 0.06058743],\n",
       "       [0.01370448, 0.98629552]])"
      ]
     },
     "execution_count": 34,
     "metadata": {},
     "output_type": "execute_result"
    }
   ],
   "source": [
    "# 手动计算概率\n",
    "h = result[1].dot(w[0].T) + b\n",
    "# 类别1的概率，p；另一类的概率是 1-p\n",
    "# sigmoid函数中计算概率\n",
    "p = 1/(1 + np.e**(-h))\n",
    "np.c_[1-p,p]"
   ]
  },
  {
   "cell_type": "markdown",
   "metadata": {},
   "source": [
    "### 多分类概率计算"
   ]
  },
  {
   "cell_type": "code",
   "execution_count": 35,
   "metadata": {},
   "outputs": [],
   "source": [
    "X,y = datasets.load_iris(True)\n",
    "\n",
    "X_train,X_test,y_train,y_test = train_test_split(X,y,test_size = 0.2)"
   ]
  },
  {
   "cell_type": "code",
   "execution_count": 39,
   "metadata": {},
   "outputs": [],
   "source": [
    "'''{'newton-cg', 'lbfgs', 'liblinear', 'sag', 'saga'},              \n",
    "optional (default='liblinear')'''\n",
    "lr = LogisticRegression(multi_class = 'multinomial',solver = 'saga')"
   ]
  },
  {
   "cell_type": "code",
   "execution_count": 40,
   "metadata": {
    "collapsed": true
   },
   "outputs": [
    {
     "name": "stderr",
     "output_type": "stream",
     "text": [
      "d:\\python3.6.8\\lib\\site-packages\\sklearn\\linear_model\\sag.py:337: ConvergenceWarning: The max_iter was reached which means the coef_ did not converge\n",
      "  \"the coef_ did not converge\", ConvergenceWarning)\n"
     ]
    },
    {
     "data": {
      "text/plain": [
       "LogisticRegression(C=1.0, class_weight=None, dual=False, fit_intercept=True,\n",
       "                   intercept_scaling=1, l1_ratio=None, max_iter=100,\n",
       "                   multi_class='multinomial', n_jobs=None, penalty='l2',\n",
       "                   random_state=None, solver='saga', tol=0.0001, verbose=0,\n",
       "                   warm_start=False)"
      ]
     },
     "execution_count": 40,
     "metadata": {},
     "output_type": "execute_result"
    }
   ],
   "source": [
    "lr.fit(X_train,y_train)"
   ]
  },
  {
   "cell_type": "code",
   "execution_count": 41,
   "metadata": {
    "collapsed": true
   },
   "outputs": [
    {
     "data": {
      "text/plain": [
       "array([[9.52129266e-01, 4.78692927e-02, 1.44152489e-06],\n",
       "       [1.97042370e-04, 8.69889214e-02, 9.12814036e-01],\n",
       "       [6.21723816e-04, 2.27663424e-01, 7.71714853e-01],\n",
       "       [9.42617124e-01, 5.73804537e-02, 2.42201620e-06],\n",
       "       [2.78495596e-03, 6.26949587e-01, 3.70265457e-01],\n",
       "       [9.63339514e-01, 3.66561846e-02, 4.30189716e-06],\n",
       "       [9.84989122e-03, 5.54415504e-01, 4.35734605e-01],\n",
       "       [1.70889512e-02, 7.48046676e-01, 2.34864373e-01],\n",
       "       [9.41522333e-01, 5.84732169e-02, 4.45057473e-06],\n",
       "       [1.35349786e-04, 6.49082250e-02, 9.34956425e-01],\n",
       "       [8.36394967e-01, 1.63571835e-01, 3.31987884e-05],\n",
       "       [7.85665493e-05, 9.05467885e-02, 9.09374645e-01],\n",
       "       [3.06872569e-03, 3.87839510e-01, 6.09091764e-01],\n",
       "       [2.34254441e-02, 8.86246856e-01, 9.03277002e-02],\n",
       "       [9.91538205e-01, 8.46168802e-03, 1.06997775e-07],\n",
       "       [2.99698469e-02, 9.10688563e-01, 5.93415906e-02],\n",
       "       [2.46842296e-02, 9.06201775e-01, 6.91139954e-02],\n",
       "       [1.85742355e-04, 2.12052591e-01, 7.87761666e-01],\n",
       "       [6.07108222e-04, 1.24583057e-01, 8.74809835e-01],\n",
       "       [9.58586536e-01, 4.14108980e-02, 2.56592551e-06],\n",
       "       [1.17744644e-04, 1.16871613e-01, 8.83010643e-01],\n",
       "       [2.63911707e-03, 3.43192958e-01, 6.54167925e-01],\n",
       "       [1.75847604e-03, 3.79415520e-01, 6.18826004e-01],\n",
       "       [7.83639914e-05, 5.77023501e-02, 9.42219286e-01],\n",
       "       [2.10342209e-02, 8.76216861e-01, 1.02748918e-01],\n",
       "       [9.80137592e-01, 1.98618048e-02, 6.02906209e-07],\n",
       "       [3.48009439e-04, 1.26810735e-01, 8.72841256e-01],\n",
       "       [9.91506751e-01, 8.49310764e-03, 1.41607241e-07],\n",
       "       [9.77369462e-01, 2.26298919e-02, 6.45665068e-07],\n",
       "       [3.07450331e-02, 7.56844135e-01, 2.12410832e-01]])"
      ]
     },
     "execution_count": 41,
     "metadata": {},
     "output_type": "execute_result"
    }
   ],
   "source": [
    "proba_ = lr.predict_proba(X_test)\n",
    "proba_"
   ]
  },
  {
   "cell_type": "markdown",
   "metadata": {},
   "source": [
    "$$\\frac{e^{x_i}}{\\sum_{i=0}^Ne^{x_i}}$$"
   ]
  },
  {
   "cell_type": "code",
   "execution_count": 43,
   "metadata": {},
   "outputs": [
    {
     "data": {
      "text/plain": [
       "array([1.23280114e-04, 9.10923680e-04, 1.66841492e-05, 9.98949112e-01])"
      ]
     },
     "execution_count": 43,
     "metadata": {},
     "output_type": "execute_result"
    }
   ],
   "source": [
    "x = np.array([1,3,-1,10])\n",
    "# softmax 软最大：将数值转化成概率，比较\n",
    "p = np.e**(x)/((np.e**(x)).sum())\n",
    "p"
   ]
  },
  {
   "cell_type": "code",
   "execution_count": 44,
   "metadata": {
    "scrolled": true
   },
   "outputs": [
    {
     "data": {
      "text/plain": [
       "1.0"
      ]
     },
     "execution_count": 44,
     "metadata": {},
     "output_type": "execute_result"
    }
   ],
   "source": [
    "p.sum()"
   ]
  },
  {
   "cell_type": "code",
   "execution_count": 46,
   "metadata": {},
   "outputs": [
    {
     "data": {
      "text/plain": [
       "array([ 0.70368821,  1.21969679, -1.92338501])"
      ]
     },
     "execution_count": 46,
     "metadata": {},
     "output_type": "execute_result"
    }
   ],
   "source": [
    "# 三分类，三个方程，每个方程中4个系数\n",
    "w = lr.coef_\n",
    "\n",
    "b = lr.intercept_\n",
    "b"
   ]
  },
  {
   "cell_type": "code",
   "execution_count": 50,
   "metadata": {},
   "outputs": [],
   "source": [
    "h = X_test.dot(w.T) + b"
   ]
  },
  {
   "cell_type": "code",
   "execution_count": 56,
   "metadata": {
    "collapsed": true
   },
   "outputs": [
    {
     "data": {
      "text/plain": [
       "array([[9.52129266e-01, 4.78692927e-02, 1.44152489e-06],\n",
       "       [1.97042370e-04, 8.69889214e-02, 9.12814036e-01],\n",
       "       [6.21723816e-04, 2.27663424e-01, 7.71714853e-01],\n",
       "       [9.42617124e-01, 5.73804537e-02, 2.42201620e-06],\n",
       "       [2.78495596e-03, 6.26949587e-01, 3.70265457e-01],\n",
       "       [9.63339514e-01, 3.66561846e-02, 4.30189716e-06],\n",
       "       [9.84989122e-03, 5.54415504e-01, 4.35734605e-01],\n",
       "       [1.70889512e-02, 7.48046676e-01, 2.34864373e-01],\n",
       "       [9.41522333e-01, 5.84732169e-02, 4.45057473e-06],\n",
       "       [1.35349786e-04, 6.49082250e-02, 9.34956425e-01]])"
      ]
     },
     "execution_count": 56,
     "metadata": {},
     "output_type": "execute_result"
    }
   ],
   "source": [
    "# softmax\n",
    "# 根据 softmax数学公式，计算了类别的概率\n",
    "p = np.e**h/((np.e**h).sum(axis = 1).reshape(-1,1))\n",
    "p[:10]"
   ]
  },
  {
   "cell_type": "code",
   "execution_count": 57,
   "metadata": {
    "collapsed": true
   },
   "outputs": [
    {
     "data": {
      "text/plain": [
       "array([[9.52129266e-01, 4.78692927e-02, 1.44152489e-06],\n",
       "       [1.97042370e-04, 8.69889214e-02, 9.12814036e-01],\n",
       "       [6.21723816e-04, 2.27663424e-01, 7.71714853e-01],\n",
       "       [9.42617124e-01, 5.73804537e-02, 2.42201620e-06],\n",
       "       [2.78495596e-03, 6.26949587e-01, 3.70265457e-01],\n",
       "       [9.63339514e-01, 3.66561846e-02, 4.30189716e-06],\n",
       "       [9.84989122e-03, 5.54415504e-01, 4.35734605e-01],\n",
       "       [1.70889512e-02, 7.48046676e-01, 2.34864373e-01],\n",
       "       [9.41522333e-01, 5.84732169e-02, 4.45057473e-06],\n",
       "       [1.35349786e-04, 6.49082250e-02, 9.34956425e-01]])"
      ]
     },
     "execution_count": 57,
     "metadata": {},
     "output_type": "execute_result"
    }
   ],
   "source": [
    "proba_[:10]"
   ]
  }
 ],
 "metadata": {
  "kernelspec": {
   "display_name": "Python 3",
   "language": "python",
   "name": "python3"
  },
  "language_info": {
   "codemirror_mode": {
    "name": "ipython",
    "version": 3
   },
   "file_extension": ".py",
   "mimetype": "text/x-python",
   "name": "python",
   "nbconvert_exporter": "python",
   "pygments_lexer": "ipython3",
   "version": "3.6.8"
  }
 },
 "nbformat": 4,
 "nbformat_minor": 2
}

{
 "cells": [
  {
   "cell_type": "code",
   "execution_count": 4,
   "metadata": {},
   "outputs": [],
   "source": [
    "# 逻辑斯蒂回归回归，用于分类而不是回归\n",
    "import numpy as np\n",
    "\n",
    "from sklearn.linear_model import LogisticRegression,LogisticRegressionCV\n",
    "\n",
    "from sklearn import datasets\n",
    "\n",
    "from sklearn.model_selection import train_test_split"
   ]
  },
  {
   "cell_type": "code",
   "execution_count": 6,
   "metadata": {
    "collapsed": true
   },
   "outputs": [
    {
     "data": {
      "text/plain": [
       "array([1.00000000e-04, 1.20450354e-04, 1.45082878e-04, 1.74752840e-04,\n",
       "       2.10490414e-04, 2.53536449e-04, 3.05385551e-04, 3.67837977e-04,\n",
       "       4.43062146e-04, 5.33669923e-04, 6.42807312e-04, 7.74263683e-04,\n",
       "       9.32603347e-04, 1.12332403e-03, 1.35304777e-03, 1.62975083e-03,\n",
       "       1.96304065e-03, 2.36448941e-03, 2.84803587e-03, 3.43046929e-03,\n",
       "       4.13201240e-03, 4.97702356e-03, 5.99484250e-03, 7.22080902e-03,\n",
       "       8.69749003e-03, 1.04761575e-02, 1.26185688e-02, 1.51991108e-02,\n",
       "       1.83073828e-02, 2.20513074e-02, 2.65608778e-02, 3.19926714e-02,\n",
       "       3.85352859e-02, 4.64158883e-02, 5.59081018e-02, 6.73415066e-02,\n",
       "       8.11130831e-02, 9.77009957e-02, 1.17681195e-01, 1.41747416e-01,\n",
       "       1.70735265e-01, 2.05651231e-01, 2.47707636e-01, 2.98364724e-01,\n",
       "       3.59381366e-01, 4.32876128e-01, 5.21400829e-01, 6.28029144e-01,\n",
       "       7.56463328e-01, 9.11162756e-01, 1.09749877e+00, 1.32194115e+00,\n",
       "       1.59228279e+00, 1.91791026e+00, 2.31012970e+00, 2.78255940e+00,\n",
       "       3.35160265e+00, 4.03701726e+00, 4.86260158e+00, 5.85702082e+00,\n",
       "       7.05480231e+00, 8.49753436e+00, 1.02353102e+01, 1.23284674e+01,\n",
       "       1.48496826e+01, 1.78864953e+01, 2.15443469e+01, 2.59502421e+01,\n",
       "       3.12571585e+01, 3.76493581e+01, 4.53487851e+01, 5.46227722e+01,\n",
       "       6.57933225e+01, 7.92482898e+01, 9.54548457e+01, 1.14975700e+02,\n",
       "       1.38488637e+02, 1.66810054e+02, 2.00923300e+02, 2.42012826e+02,\n",
       "       2.91505306e+02, 3.51119173e+02, 4.22924287e+02, 5.09413801e+02,\n",
       "       6.13590727e+02, 7.39072203e+02, 8.90215085e+02, 1.07226722e+03,\n",
       "       1.29154967e+03, 1.55567614e+03, 1.87381742e+03, 2.25701972e+03,\n",
       "       2.71858824e+03, 3.27454916e+03, 3.94420606e+03, 4.75081016e+03,\n",
       "       5.72236766e+03, 6.89261210e+03, 8.30217568e+03, 1.00000000e+04])"
      ]
     },
     "execution_count": 6,
     "metadata": {},
     "output_type": "execute_result"
    }
   ],
   "source": [
    "np.logspace(-4,4,100)"
   ]
  },
  {
   "cell_type": "code",
   "execution_count": null,
   "metadata": {},
   "outputs": [],
   "source": [
    "LogisticRegressionCV(Cs = [0.001,0.01,0.1,1,5,10,100])"
   ]
  },
  {
   "cell_type": "code",
   "execution_count": 3,
   "metadata": {},
   "outputs": [],
   "source": [
    "X,y = datasets.load_iris(True)\n",
    "X_train,X_test,y_train,y_test = train_test_split(X,y,test_size = 0.2)"
   ]
  },
  {
   "cell_type": "code",
   "execution_count": 7,
   "metadata": {
    "collapsed": true
   },
   "outputs": [
    {
     "name": "stderr",
     "output_type": "stream",
     "text": [
      "d:\\python3.6.8\\lib\\site-packages\\sklearn\\linear_model\\logistic.py:432: FutureWarning: Default solver will be changed to 'lbfgs' in 0.22. Specify a solver to silence this warning.\n",
      "  FutureWarning)\n",
      "d:\\python3.6.8\\lib\\site-packages\\sklearn\\linear_model\\logistic.py:469: FutureWarning: Default multi_class will be changed to 'auto' in 0.22. Specify the multi_class option to silence this warning.\n",
      "  \"this warning.\", FutureWarning)\n"
     ]
    },
    {
     "data": {
      "text/plain": [
       "0.9666666666666667"
      ]
     },
     "execution_count": 7,
     "metadata": {},
     "output_type": "execute_result"
    }
   ],
   "source": [
    "lr = LogisticRegression()\n",
    "\n",
    "lr.fit(X_train,y_train)\n",
    "\n",
    "# 分类问题，准确率 96.6%\n",
    "lr.score(X_test,y_test)"
   ]
  },
  {
   "cell_type": "code",
   "execution_count": 10,
   "metadata": {},
   "outputs": [
    {
     "data": {
      "text/plain": [
       "array([0, 1, 2])"
      ]
     },
     "execution_count": 10,
     "metadata": {},
     "output_type": "execute_result"
    }
   ],
   "source": [
    "# 类别分3类\n",
    "np.unique(y)"
   ]
  },
  {
   "cell_type": "code",
   "execution_count": 8,
   "metadata": {
    "scrolled": true
   },
   "outputs": [
    {
     "data": {
      "text/plain": [
       "(150, 4)"
      ]
     },
     "execution_count": 8,
     "metadata": {},
     "output_type": "execute_result"
    }
   ],
   "source": [
    "# 每个类别中4个属性\n",
    "X.shape"
   ]
  },
  {
   "cell_type": "code",
   "execution_count": 11,
   "metadata": {
    "scrolled": true
   },
   "outputs": [
    {
     "data": {
      "text/plain": [
       "array([[ 0.33731338,  1.40292187, -2.13137011, -0.93519874],\n",
       "       [ 0.45639166, -1.46898164,  0.41654994, -1.14058882],\n",
       "       [-1.63772722, -1.50115034,  2.39297067,  2.23567171]])"
      ]
     },
     "execution_count": 11,
     "metadata": {},
     "output_type": "execute_result"
    }
   ],
   "source": [
    "lr.coef_"
   ]
  },
  {
   "cell_type": "code",
   "execution_count": 12,
   "metadata": {
    "scrolled": true
   },
   "outputs": [
    {
     "data": {
      "text/plain": [
       "array([ 0.22068368,  0.95662511, -0.9947437 ])"
      ]
     },
     "execution_count": 12,
     "metadata": {},
     "output_type": "execute_result"
    }
   ],
   "source": [
    "lr.intercept_"
   ]
  },
  {
   "cell_type": "code",
   "execution_count": 13,
   "metadata": {
    "scrolled": true
   },
   "outputs": [
    {
     "data": {
      "text/plain": [
       "array([1, 0, 0, 2, 2, 0, 2, 1, 2, 1, 2, 1, 0, 0, 1, 0, 0, 0, 0, 1, 2, 0,\n",
       "       0, 0, 2, 2, 2, 0, 2, 0])"
      ]
     },
     "execution_count": 13,
     "metadata": {},
     "output_type": "execute_result"
    }
   ],
   "source": [
    "# 分类都是概率\n",
    "lr.predict(X_test)"
   ]
  },
  {
   "cell_type": "code",
   "execution_count": 15,
   "metadata": {
    "collapsed": true
   },
   "outputs": [
    {
     "data": {
      "text/plain": [
       "array([1, 0, 0, 2, 2, 0, 2, 1, 2, 1, 2, 1, 0, 0, 1, 0, 0, 0, 0, 1, 2, 0,\n",
       "       0, 0, 2, 2, 2, 0, 2, 0], dtype=int64)"
      ]
     },
     "execution_count": 15,
     "metadata": {},
     "output_type": "execute_result"
    }
   ],
   "source": [
    "proba_ = lr.predict_proba(X_test)\n",
    "\n",
    "proba_.argmax(axis = 1)"
   ]
  },
  {
   "cell_type": "code",
   "execution_count": null,
   "metadata": {},
   "outputs": [],
   "source": [
    "# 计算概率\n",
    "# 多分类问题"
   ]
  },
  {
   "cell_type": "code",
   "execution_count": 17,
   "metadata": {},
   "outputs": [
    {
     "data": {
      "text/plain": [
       "array([[ 0.33731338,  1.40292187, -2.13137011, -0.93519874],\n",
       "       [ 0.45639166, -1.46898164,  0.41654994, -1.14058882],\n",
       "       [-1.63772722, -1.50115034,  2.39297067,  2.23567171]])"
      ]
     },
     "execution_count": 17,
     "metadata": {},
     "output_type": "execute_result"
    }
   ],
   "source": [
    "w = lr.coef_\n",
    "w"
   ]
  },
  {
   "cell_type": "code",
   "execution_count": 19,
   "metadata": {},
   "outputs": [
    {
     "data": {
      "text/plain": [
       "array([ 0.22068368,  0.95662511, -0.9947437 ])"
      ]
     },
     "execution_count": 19,
     "metadata": {},
     "output_type": "execute_result"
    }
   ],
   "source": [
    "b = lr.intercept_\n",
    "b"
   ]
  },
  {
   "cell_type": "code",
   "execution_count": 21,
   "metadata": {},
   "outputs": [
    {
     "data": {
      "text/plain": [
       "(30, 4)"
      ]
     },
     "execution_count": 21,
     "metadata": {},
     "output_type": "execute_result"
    }
   ],
   "source": [
    "X_test.shape"
   ]
  },
  {
   "cell_type": "code",
   "execution_count": 26,
   "metadata": {
    "collapsed": true
   },
   "outputs": [
    {
     "data": {
      "text/plain": [
       "array([[3.48844679e-02, 7.23102065e-01, 2.42013467e-01],\n",
       "       [7.52952012e-01, 2.47003460e-01, 4.45279684e-05],\n",
       "       [8.08251876e-01, 1.91635322e-01, 1.12802388e-04],\n",
       "       [5.45882892e-04, 2.38167637e-01, 7.61286480e-01],\n",
       "       [8.23394356e-04, 2.70495968e-01, 7.28680638e-01],\n",
       "       [8.30017447e-01, 1.69957801e-01, 2.47517414e-05],\n",
       "       [6.12395875e-04, 2.62672221e-01, 7.36715383e-01],\n",
       "       [1.15159565e-02, 7.69906367e-01, 2.18577676e-01],\n",
       "       [1.36639287e-03, 3.49349206e-01, 6.49284401e-01],\n",
       "       [2.00501143e-02, 6.59212058e-01, 3.20737828e-01]])"
      ]
     },
     "execution_count": 26,
     "metadata": {},
     "output_type": "execute_result"
    }
   ],
   "source": [
    "proba_[:10]"
   ]
  },
  {
   "cell_type": "markdown",
   "metadata": {},
   "source": [
    "$$logistic = \\frac{1}{1 + e^{-x}}$$"
   ]
  },
  {
   "cell_type": "code",
   "execution_count": 28,
   "metadata": {
    "collapsed": true
   },
   "outputs": [
    {
     "data": {
      "text/plain": [
       "array([[3.48844679e-02, 7.23102065e-01, 2.42013467e-01],\n",
       "       [7.52952012e-01, 2.47003460e-01, 4.45279684e-05],\n",
       "       [8.08251876e-01, 1.91635322e-01, 1.12802388e-04],\n",
       "       [5.45882892e-04, 2.38167637e-01, 7.61286480e-01],\n",
       "       [8.23394356e-04, 2.70495968e-01, 7.28680638e-01],\n",
       "       [8.30017447e-01, 1.69957801e-01, 2.47517414e-05],\n",
       "       [6.12395875e-04, 2.62672221e-01, 7.36715383e-01],\n",
       "       [1.15159565e-02, 7.69906367e-01, 2.18577676e-01],\n",
       "       [1.36639287e-03, 3.49349206e-01, 6.49284401e-01],\n",
       "       [2.00501143e-02, 6.59212058e-01, 3.20737828e-01],\n",
       "       [7.86313147e-04, 1.58868649e-01, 8.40345038e-01],\n",
       "       [9.14167986e-03, 7.08038137e-01, 2.82820183e-01],\n",
       "       [8.58714949e-01, 1.41274077e-01, 1.09739267e-05],\n",
       "       [7.60216150e-01, 2.39742042e-01, 4.18074582e-05],\n",
       "       [2.36661711e-03, 5.09580043e-01, 4.88053340e-01],\n",
       "       [8.61551549e-01, 1.38388585e-01, 5.98655796e-05],\n",
       "       [8.89258499e-01, 1.10714158e-01, 2.73427939e-05],\n",
       "       [8.29094558e-01, 1.70851270e-01, 5.41721868e-05],\n",
       "       [7.39929474e-01, 2.60005110e-01, 6.54156830e-05],\n",
       "       [1.70257819e-02, 8.33601006e-01, 1.49373213e-01],\n",
       "       [1.36233886e-03, 2.84164801e-01, 7.14472860e-01],\n",
       "       [8.15791883e-01, 1.84146457e-01, 6.16597548e-05],\n",
       "       [6.55406429e-01, 3.44350180e-01, 2.43390773e-04],\n",
       "       [7.97000873e-01, 2.02914874e-01, 8.42522533e-05],\n",
       "       [7.67601846e-04, 3.91661190e-01, 6.07571208e-01],\n",
       "       [2.48414387e-03, 3.17670899e-01, 6.79844957e-01],\n",
       "       [1.10768741e-03, 3.45409251e-01, 6.53483061e-01],\n",
       "       [8.54451290e-01, 1.45526397e-01, 2.23133112e-05],\n",
       "       [7.81974484e-05, 3.89664179e-01, 6.10257624e-01],\n",
       "       [8.25089887e-01, 1.74879879e-01, 3.02343155e-05]])"
      ]
     },
     "execution_count": 28,
     "metadata": {},
     "output_type": "execute_result"
    }
   ],
   "source": [
    "y_ = X_test.dot(w.T) + b\n",
    "# 逻辑斯蒂函数 = sigmoid函数\n",
    "prob = 1 /(1 + np.e**(- y_))\n",
    "# 归一化操作 和算法预测的概率完全一样\n",
    "prob/prob.sum(axis = 1).reshape(-1,1)"
   ]
  },
  {
   "cell_type": "code",
   "execution_count": null,
   "metadata": {},
   "outputs": [],
   "source": [
    "# 三个方程，三个方程怎么计算，w\n",
    "# 梯度下降，牛顿法优化"
   ]
  }
 ],
 "metadata": {
  "kernelspec": {
   "display_name": "Python 3",
   "language": "python",
   "name": "python3"
  },
  "language_info": {
   "codemirror_mode": {
    "name": "ipython",
    "version": 3
   },
   "file_extension": ".py",
   "mimetype": "text/x-python",
   "name": "python",
   "nbconvert_exporter": "python",
   "pygments_lexer": "ipython3",
   "version": "3.6.8"
  }
 },
 "nbformat": 4,
 "nbformat_minor": 2
}

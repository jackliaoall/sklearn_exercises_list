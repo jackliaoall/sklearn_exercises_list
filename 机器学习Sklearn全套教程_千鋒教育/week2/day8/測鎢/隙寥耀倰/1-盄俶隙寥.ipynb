{
 "cells": [
  {
   "cell_type": "code",
   "execution_count": 2,
   "metadata": {
    "collapsed": true
   },
   "outputs": [
    {
     "name": "stderr",
     "output_type": "stream",
     "text": [
      "d:\\python3.6.8\\lib\\importlib\\_bootstrap.py:219: RuntimeWarning: numpy.ufunc size changed, may indicate binary incompatibility. Expected 192 from C header, got 216 from PyObject\n",
      "  return f(*args, **kwds)\n"
     ]
    }
   ],
   "source": [
    "import numpy as np\n",
    "\n",
    "from sklearn.linear_model import LinearRegression\n",
    "\n",
    "import matplotlib.pyplot as plt\n",
    "%matplotlib  inline\n",
    "\n",
    "from sklearn import datasets"
   ]
  },
  {
   "cell_type": "code",
   "execution_count": 3,
   "metadata": {},
   "outputs": [],
   "source": [
    "# 波士顿房价\n",
    "boston = datasets.load_boston()"
   ]
  },
  {
   "cell_type": "code",
   "execution_count": 5,
   "metadata": {
    "collapsed": true
   },
   "outputs": [
    {
     "data": {
      "text/plain": [
       "array([[ 0.        ],\n",
       "       [ 0.20408163],\n",
       "       [ 0.40816327],\n",
       "       [ 0.6122449 ],\n",
       "       [ 0.81632653],\n",
       "       [ 1.02040816],\n",
       "       [ 1.2244898 ],\n",
       "       [ 1.42857143],\n",
       "       [ 1.63265306],\n",
       "       [ 1.83673469],\n",
       "       [ 2.04081633],\n",
       "       [ 2.24489796],\n",
       "       [ 2.44897959],\n",
       "       [ 2.65306122],\n",
       "       [ 2.85714286],\n",
       "       [ 3.06122449],\n",
       "       [ 3.26530612],\n",
       "       [ 3.46938776],\n",
       "       [ 3.67346939],\n",
       "       [ 3.87755102],\n",
       "       [ 4.08163265],\n",
       "       [ 4.28571429],\n",
       "       [ 4.48979592],\n",
       "       [ 4.69387755],\n",
       "       [ 4.89795918],\n",
       "       [ 5.10204082],\n",
       "       [ 5.30612245],\n",
       "       [ 5.51020408],\n",
       "       [ 5.71428571],\n",
       "       [ 5.91836735],\n",
       "       [ 6.12244898],\n",
       "       [ 6.32653061],\n",
       "       [ 6.53061224],\n",
       "       [ 6.73469388],\n",
       "       [ 6.93877551],\n",
       "       [ 7.14285714],\n",
       "       [ 7.34693878],\n",
       "       [ 7.55102041],\n",
       "       [ 7.75510204],\n",
       "       [ 7.95918367],\n",
       "       [ 8.16326531],\n",
       "       [ 8.36734694],\n",
       "       [ 8.57142857],\n",
       "       [ 8.7755102 ],\n",
       "       [ 8.97959184],\n",
       "       [ 9.18367347],\n",
       "       [ 9.3877551 ],\n",
       "       [ 9.59183673],\n",
       "       [ 9.79591837],\n",
       "       [10.        ]])"
      ]
     },
     "execution_count": 5,
     "metadata": {},
     "output_type": "execute_result"
    }
   ],
   "source": [
    "X = np.linspace(0,10,50).reshape(-1,1)\n",
    "X"
   ]
  },
  {
   "cell_type": "code",
   "execution_count": 6,
   "metadata": {
    "collapsed": true
   },
   "outputs": [
    {
     "data": {
      "text/plain": [
       "array([[ 0.        ],\n",
       "       [ 1.2244898 ],\n",
       "       [ 2.44897959],\n",
       "       [ 3.67346939],\n",
       "       [ 4.89795918],\n",
       "       [ 6.12244898],\n",
       "       [ 7.34693878],\n",
       "       [ 8.57142857],\n",
       "       [ 9.79591837],\n",
       "       [11.02040816],\n",
       "       [12.24489796],\n",
       "       [13.46938776],\n",
       "       [14.69387755],\n",
       "       [15.91836735],\n",
       "       [17.14285714],\n",
       "       [18.36734694],\n",
       "       [19.59183673],\n",
       "       [20.81632653],\n",
       "       [22.04081633],\n",
       "       [23.26530612],\n",
       "       [24.48979592],\n",
       "       [25.71428571],\n",
       "       [26.93877551],\n",
       "       [28.16326531],\n",
       "       [29.3877551 ],\n",
       "       [30.6122449 ],\n",
       "       [31.83673469],\n",
       "       [33.06122449],\n",
       "       [34.28571429],\n",
       "       [35.51020408],\n",
       "       [36.73469388],\n",
       "       [37.95918367],\n",
       "       [39.18367347],\n",
       "       [40.40816327],\n",
       "       [41.63265306],\n",
       "       [42.85714286],\n",
       "       [44.08163265],\n",
       "       [45.30612245],\n",
       "       [46.53061224],\n",
       "       [47.75510204],\n",
       "       [48.97959184],\n",
       "       [50.20408163],\n",
       "       [51.42857143],\n",
       "       [52.65306122],\n",
       "       [53.87755102],\n",
       "       [55.10204082],\n",
       "       [56.32653061],\n",
       "       [57.55102041],\n",
       "       [58.7755102 ],\n",
       "       [60.        ]])"
      ]
     },
     "execution_count": 6,
     "metadata": {},
     "output_type": "execute_result"
    }
   ],
   "source": [
    "y = np.random.randint(2,8,size = 1)*X\n",
    "y"
   ]
  },
  {
   "cell_type": "code",
   "execution_count": 8,
   "metadata": {
    "collapsed": true
   },
   "outputs": [
    {
     "name": "stderr",
     "output_type": "stream",
     "text": [
      "d:\\python3.6.8\\lib\\site-packages\\ipykernel_launcher.py:1: RuntimeWarning: invalid value encountered in true_divide\n",
      "  \"\"\"Entry point for launching an IPython kernel.\n"
     ]
    },
    {
     "data": {
      "text/plain": [
       "array([[nan],\n",
       "       [ 6.],\n",
       "       [ 6.],\n",
       "       [ 6.],\n",
       "       [ 6.],\n",
       "       [ 6.],\n",
       "       [ 6.],\n",
       "       [ 6.],\n",
       "       [ 6.],\n",
       "       [ 6.],\n",
       "       [ 6.],\n",
       "       [ 6.],\n",
       "       [ 6.],\n",
       "       [ 6.],\n",
       "       [ 6.],\n",
       "       [ 6.],\n",
       "       [ 6.],\n",
       "       [ 6.],\n",
       "       [ 6.],\n",
       "       [ 6.],\n",
       "       [ 6.],\n",
       "       [ 6.],\n",
       "       [ 6.],\n",
       "       [ 6.],\n",
       "       [ 6.],\n",
       "       [ 6.],\n",
       "       [ 6.],\n",
       "       [ 6.],\n",
       "       [ 6.],\n",
       "       [ 6.],\n",
       "       [ 6.],\n",
       "       [ 6.],\n",
       "       [ 6.],\n",
       "       [ 6.],\n",
       "       [ 6.],\n",
       "       [ 6.],\n",
       "       [ 6.],\n",
       "       [ 6.],\n",
       "       [ 6.],\n",
       "       [ 6.],\n",
       "       [ 6.],\n",
       "       [ 6.],\n",
       "       [ 6.],\n",
       "       [ 6.],\n",
       "       [ 6.],\n",
       "       [ 6.],\n",
       "       [ 6.],\n",
       "       [ 6.],\n",
       "       [ 6.],\n",
       "       [ 6.]])"
      ]
     },
     "execution_count": 8,
     "metadata": {},
     "output_type": "execute_result"
    }
   ],
   "source": [
    "y/X"
   ]
  },
  {
   "cell_type": "code",
   "execution_count": 7,
   "metadata": {},
   "outputs": [
    {
     "data": {
      "text/plain": [
       "array([[6.]])"
      ]
     },
     "execution_count": 7,
     "metadata": {},
     "output_type": "execute_result"
    }
   ],
   "source": [
    "lr = LinearRegression()\n",
    "\n",
    "lr.fit(X,y)\n",
    "# coeficient 效率，斜率\n",
    "# w ---->weight 权重，\n",
    "lr.coef_"
   ]
  },
  {
   "cell_type": "markdown",
   "metadata": {},
   "source": [
    "$$\\hat{w} = (X^TX)^{-1}X^Ty$$"
   ]
  },
  {
   "cell_type": "code",
   "execution_count": 12,
   "metadata": {
    "scrolled": true
   },
   "outputs": [
    {
     "data": {
      "text/plain": [
       "array([[6.]])"
      ]
     },
     "execution_count": 12,
     "metadata": {},
     "output_type": "execute_result"
    }
   ],
   "source": [
    "# 线性代数中的矩阵运算\n",
    "np.linalg.inv(X.T.dot(X)).dot(X.T).dot(y)"
   ]
  },
  {
   "cell_type": "markdown",
   "metadata": {},
   "source": [
    "$$最小二乘法 H = \\sum_{i = 0}^N(Xw - y)^2$$"
   ]
  },
  {
   "cell_type": "markdown",
   "metadata": {},
   "source": [
    "$$2(Xw - y)X = 0$$"
   ]
  },
  {
   "cell_type": "markdown",
   "metadata": {},
   "source": [
    "$$(Xw - y)XX^{-1} = 0X^{-1}$$"
   ]
  },
  {
   "cell_type": "markdown",
   "metadata": {},
   "source": [
    "$$Xw - y = 0$$"
   ]
  },
  {
   "cell_type": "markdown",
   "metadata": {},
   "source": [
    "$$Xw = y$$"
   ]
  },
  {
   "cell_type": "markdown",
   "metadata": {},
   "source": [
    "$$X^TXw = X^Ty$$"
   ]
  },
  {
   "cell_type": "markdown",
   "metadata": {},
   "source": [
    "$$(X^TX)^{-1}(X^TX)w = (X^TX)^{-1}X^Ty$$"
   ]
  },
  {
   "cell_type": "markdown",
   "metadata": {},
   "source": [
    "$$Iw = (X^TX)^{-1}X^Ty$$"
   ]
  },
  {
   "cell_type": "markdown",
   "metadata": {},
   "source": [
    "$$w = (X^TX)^{-1}X^Ty$$"
   ]
  },
  {
   "cell_type": "code",
   "execution_count": 19,
   "metadata": {},
   "outputs": [],
   "source": [
    "X = boston['data']\n",
    "y = boston['target']"
   ]
  },
  {
   "cell_type": "code",
   "execution_count": 20,
   "metadata": {},
   "outputs": [
    {
     "data": {
      "text/plain": [
       "(506, 13)"
      ]
     },
     "execution_count": 20,
     "metadata": {},
     "output_type": "execute_result"
    }
   ],
   "source": [
    "X.shape"
   ]
  },
  {
   "cell_type": "code",
   "execution_count": 21,
   "metadata": {},
   "outputs": [],
   "source": [
    "from sklearn.model_selection import train_test_split\n",
    "\n",
    "X_train,X_test,y_train,y_test = train_test_split(X,y,test_size = 0.2)"
   ]
  },
  {
   "cell_type": "code",
   "execution_count": 23,
   "metadata": {},
   "outputs": [
    {
     "data": {
      "text/plain": [
       "(506, 13)"
      ]
     },
     "execution_count": 23,
     "metadata": {},
     "output_type": "execute_result"
    }
   ],
   "source": [
    "X.shape"
   ]
  },
  {
   "cell_type": "code",
   "execution_count": 22,
   "metadata": {
    "collapsed": true
   },
   "outputs": [
    {
     "data": {
      "text/plain": [
       "array([-0.1412295 ,  0.04181349, -0.01322025,  1.86963613, -4.15101845,\n",
       "        6.06733637, -0.01337729, -1.09192302,  0.17925408, -0.00889826,\n",
       "       -0.41013493,  0.01643046, -0.3599472 ])"
      ]
     },
     "metadata": {},
     "output_type": "display_data"
    },
    {
     "data": {
      "text/plain": [
       "0.0"
      ]
     },
     "metadata": {},
     "output_type": "display_data"
    }
   ],
   "source": [
    "lr = LinearRegression(fit_intercept=False)\n",
    "\n",
    "lr.fit(X_train,y_train)\n",
    "# 斜率个数：属性的个数决定\n",
    "display(lr.coef_,lr.intercept_)"
   ]
  },
  {
   "cell_type": "code",
   "execution_count": 26,
   "metadata": {
    "scrolled": true
   },
   "outputs": [
    {
     "data": {
      "text/plain": [
       "array([21.11, 17.72, 31.43,  2.33, 24.62, 19.41, 20.77,  8.16, 26.16,\n",
       "       19.31, 20.68,  7.19, 43.46, 24.02, 21.2 , 17.67, 10.54, 14.64,\n",
       "       27.81, 27.43, 22.87, 30.66, 19.62, 37.61, 30.9 ])"
      ]
     },
     "execution_count": 26,
     "metadata": {},
     "output_type": "execute_result"
    }
   ],
   "source": [
    "# 算法预测的结果\n",
    "lr.predict(X_test).round(2)[:25]"
   ]
  },
  {
   "cell_type": "markdown",
   "metadata": {},
   "source": [
    "$$f(x) = w1*x1 + w2*x2 + …… + w13*x13$$"
   ]
  },
  {
   "cell_type": "code",
   "execution_count": 29,
   "metadata": {
    "collapsed": true
   },
   "outputs": [
    {
     "data": {
      "text/plain": [
       "array([-0.1412295 ,  0.04181349, -0.01322025,  1.86963613, -4.15101845,\n",
       "        6.06733637, -0.01337729, -1.09192302,  0.17925408, -0.00889826,\n",
       "       -0.41013493,  0.01643046, -0.3599472 ])"
      ]
     },
     "execution_count": 29,
     "metadata": {},
     "output_type": "execute_result"
    }
   ],
   "source": [
    "w = lr.coef_\n",
    "w"
   ]
  },
  {
   "cell_type": "code",
   "execution_count": 33,
   "metadata": {},
   "outputs": [
    {
     "data": {
      "text/plain": [
       "array([21.11, 17.72, 31.43,  2.33, 24.62, 19.41, 20.77,  8.16, 26.16,\n",
       "       19.31, 20.68,  7.19, 43.46, 24.02, 21.2 , 17.67, 10.54, 14.64,\n",
       "       27.81, 27.43, 22.87, 30.66, 19.62, 37.61, 30.9 ])"
      ]
     },
     "execution_count": 33,
     "metadata": {},
     "output_type": "execute_result"
    }
   ],
   "source": [
    "X_test.dot(w).round(2)[:25]"
   ]
  },
  {
   "cell_type": "code",
   "execution_count": 27,
   "metadata": {
    "collapsed": true
   },
   "outputs": [
    {
     "data": {
      "text/plain": [
       "array([16.4, 18.6, 41.3,  8.8, 22.8, 27.1, 18.7, 27.5, 22. , 14.1, 16.1,\n",
       "        5. , 50. , 22.6, 13.8, 20.8, 12. , 12.8, 22.9, 26.5, 21.5, 29.9,\n",
       "       18.3, 50. , 50. ])"
      ]
     },
     "execution_count": 27,
     "metadata": {},
     "output_type": "execute_result"
    }
   ],
   "source": [
    "# '真实'的房价显示\n",
    "y_test[:25]"
   ]
  },
  {
   "cell_type": "code",
   "execution_count": 34,
   "metadata": {
    "collapsed": true
   },
   "outputs": [
    {
     "data": {
      "text/plain": [
       "array([-1.41151959e-01,  4.11921987e-02, -1.40329665e-03,  1.62461478e+00,\n",
       "       -1.74893870e+01,  3.95218799e+00, -4.11935673e-03, -1.60614632e+00,\n",
       "        2.97047505e-01, -1.16287244e-02, -9.43595535e-01,  1.09847236e-02,\n",
       "       -4.79093686e-01])"
      ]
     },
     "metadata": {},
     "output_type": "display_data"
    },
    {
     "data": {
      "text/plain": [
       "35.204261036207875"
      ]
     },
     "metadata": {},
     "output_type": "display_data"
    }
   ],
   "source": [
    "lr = LinearRegression(fit_intercept=True)\n",
    "\n",
    "lr.fit(X_train,y_train)\n",
    "\n",
    "display(lr.coef_,lr.intercept_)"
   ]
  },
  {
   "cell_type": "markdown",
   "metadata": {},
   "source": [
    "$$f(x) = w1*x1 + w2*x2 + …… + w13*x13 + b$$"
   ]
  },
  {
   "cell_type": "code",
   "execution_count": 35,
   "metadata": {
    "scrolled": true
   },
   "outputs": [
    {
     "data": {
      "text/plain": [
       "array([19.23, 16.17, 33.17,  3.79, 28.58, 19.67, 21.32, 13.91, 27.06,\n",
       "       17.79, 18.98,  6.42, 43.27, 24.57, 20.47])"
      ]
     },
     "execution_count": 35,
     "metadata": {},
     "output_type": "execute_result"
    }
   ],
   "source": [
    "lr.predict(X_test).round(2)[:15]"
   ]
  },
  {
   "cell_type": "code",
   "execution_count": 36,
   "metadata": {},
   "outputs": [
    {
     "data": {
      "text/plain": [
       "array([19.23, 16.17, 33.17,  3.79, 28.58, 19.67, 21.32, 13.91, 27.06,\n",
       "       17.79, 18.98,  6.42, 43.27, 24.57, 20.47])"
      ]
     },
     "execution_count": 36,
     "metadata": {},
     "output_type": "execute_result"
    }
   ],
   "source": [
    "# 根据斜率和截距构造方程，进行求解的结果\n",
    "(X_test.dot(lr.coef_) + lr.intercept_).round(2)[:15]"
   ]
  }
 ],
 "metadata": {
  "kernelspec": {
   "display_name": "Python 3",
   "language": "python",
   "name": "python3"
  },
  "language_info": {
   "codemirror_mode": {
    "name": "ipython",
    "version": 3
   },
   "file_extension": ".py",
   "mimetype": "text/x-python",
   "name": "python",
   "nbconvert_exporter": "python",
   "pygments_lexer": "ipython3",
   "version": "3.6.8"
  }
 },
 "nbformat": 4,
 "nbformat_minor": 2
}

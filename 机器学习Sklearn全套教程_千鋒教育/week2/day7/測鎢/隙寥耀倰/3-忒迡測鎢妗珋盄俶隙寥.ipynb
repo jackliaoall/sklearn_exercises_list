{
 "cells": [
  {
   "cell_type": "code",
   "execution_count": 1,
   "metadata": {},
   "outputs": [],
   "source": [
    "import numpy as np\n",
    "\n",
    "import matplotlib.pyplot as plt\n",
    "%matplotlib inline\n",
    "\n",
    "from sklearn.linear_model import LinearRegression"
   ]
  },
  {
   "cell_type": "markdown",
   "metadata": {},
   "source": [
    "### 创建数据"
   ]
  },
  {
   "cell_type": "code",
   "execution_count": 5,
   "metadata": {
    "collapsed": true
   },
   "outputs": [
    {
     "data": {
      "text/plain": [
       "<matplotlib.collections.PathCollection at 0x1889b382208>"
      ]
     },
     "execution_count": 5,
     "metadata": {},
     "output_type": "execute_result"
    },
    {
     "data": {
      "image/png": "[encoded data removed]",
      "text/plain": [
       "<Figure size 432x288 with 1 Axes>"
      ]
     },
     "metadata": {
      "needs_background": "light"
     },
     "output_type": "display_data"
    }
   ],
   "source": [
    "X = np.linspace(2,10,20).reshape(-1,1)\n",
    "\n",
    "# f(x) = wx + b\n",
    "y = np.random.randint(1,6,size = 1)*X + np.random.randint(-5,5,size = 1)\n",
    "\n",
    "# 噪声，加盐\n",
    "y += np.random.randn(20,1)*0.8\n",
    "\n",
    "plt.scatter(X,y,color =  'red')"
   ]
  },
  {
   "cell_type": "markdown",
   "metadata": {},
   "source": [
    "### 使用已有的线性回归拟合函数"
   ]
  },
  {
   "cell_type": "code",
   "execution_count": 43,
   "metadata": {},
   "outputs": [
    {
     "name": "stdout",
     "output_type": "stream",
     "text": [
      "1.965481199093173 -4.644495936205775\n"
     ]
    },
    {
     "data": {
      "text/plain": [
       "[<matplotlib.lines.Line2D at 0x1889daece48>]"
      ]
     },
     "execution_count": 43,
     "metadata": {},
     "output_type": "execute_result"
    },
    {
     "data": {
      "image/png": "[encoded data removed]",
      "text/plain": [
       "<Figure size 432x288 with 1 Axes>"
      ]
     },
     "metadata": {
      "needs_background": "light"
     },
     "output_type": "display_data"
    }
   ],
   "source": [
    "lr = LinearRegression()\n",
    "lr.fit(X,y)\n",
    "\n",
    "w = lr.coef_[0,0]\n",
    "b = lr.intercept_[0]\n",
    "print(w,b)\n",
    "\n",
    "plt.scatter(X,y)\n",
    "\n",
    "x = np.linspace(1,11,50)\n",
    "\n",
    "plt.plot(x,w*x + b,color = 'green')"
   ]
  },
  {
   "cell_type": "markdown",
   "metadata": {},
   "source": [
    "### 自己实现了线性回归（简版）"
   ]
  },
  {
   "cell_type": "code",
   "execution_count": 45,
   "metadata": {},
   "outputs": [],
   "source": [
    "# 使用梯度下降解决一元一次的线性问题：w，b\n",
    "class LinearModel(object):\n",
    "    def __init__(self):\n",
    "        self.w = np.random.randn(1)[0]\n",
    "        self.b = np.random.randn(1)[0]\n",
    "#     数学建模：将数据X和目标值关系用数学公式表达\n",
    "    def model(self,x):#model 模型，f(x) = wx + b\n",
    "        return self.w*x + self.b\n",
    "    def loss(self,x,y):#最小二乘\n",
    "        cost = (y - self.model(x))**2\n",
    "#         梯度就是偏导数，求解两个未知数：w，b\n",
    "        gradient_w = 2*(y - self.model(x))*(-x)\n",
    "        gradient_b = 2*(y - self.model(x))*(-1)\n",
    "        return cost,gradient_w,gradient_b\n",
    "#     梯度下降\n",
    "    def gradient_descent(self,gradient_w,gradient_b,learning_rate = 0.1):\n",
    "#         更新w，b\n",
    "        self.w -= gradient_w*learning_rate\n",
    "        self.b -= gradient_b*learning_rate\n",
    "#     训练fit\n",
    "    def fit(self,X,y):\n",
    "        count = 0 #算法执行优化了3000次，退出\n",
    "        tol = 0.0001\n",
    "        last_w = self.w + 0.1\n",
    "        last_b = self.b + 0.1\n",
    "        length = len(X)\n",
    "        while True:\n",
    "            if count > 3000:#执行的次数到了\n",
    "                break\n",
    "#           求解的斜率和截距的精确度达到要求\n",
    "            if (abs(last_w - self.w) < tol) and (abs(last_b - self.b) < tol):\n",
    "                break\n",
    "            cost = 0\n",
    "            gradient_w = 0\n",
    "            gradient_b = 0\n",
    "            for i in range(length):\n",
    "                cost_,gradient_w_,gradient_b_ = self.loss(X[i,0],y[i,0])\n",
    "                cost += cost_/length\n",
    "                gradient_w += gradient_w_/length\n",
    "                gradient_b += gradient_b_/length\n",
    "#             print('---------------------执行次数：%d。损失值是：%0.2f'%(count,cost))\n",
    "            last_w = self.w\n",
    "            last_b = self.b\n",
    "            # 更新截距和斜率\n",
    "            self.gradient_descent(gradient_w,gradient_b,0.01)\n",
    "            count+=1\n",
    "    def result(self):\n",
    "        return self.w,self.b"
   ]
  },
  {
   "cell_type": "markdown",
   "metadata": {},
   "source": [
    "### 使用自己实现的线性回归拟合函数"
   ]
  },
  {
   "cell_type": "code",
   "execution_count": 46,
   "metadata": {},
   "outputs": [
    {
     "data": {
      "text/plain": [
       "Text(0.5, 1.0, '自定义的算法拟合曲线')"
      ]
     },
     "execution_count": 46,
     "metadata": {},
     "output_type": "execute_result"
    },
    {
     "data": {
      "image/png": "[encoded data removed]",
      "text/plain": [
       "<Figure size 432x288 with 1 Axes>"
      ]
     },
     "metadata": {
      "needs_background": "light"
     },
     "output_type": "display_data"
    }
   ],
   "source": [
    "lm = LinearModel()\n",
    "\n",
    "lm.fit(X,y)\n",
    "\n",
    "w_,b_ = lm.result()\n",
    "\n",
    "plt.scatter(X,y,c = 'red')\n",
    "\n",
    "plt.plot(x,1.9649*x - 4.64088,color = 'green')\n",
    "\n",
    "plt.plot(x,w*x + b,color = 'blue')\n",
    "\n",
    "plt.title('自定义的算法拟合曲线',fontproperties = 'KaiTi')"
   ]
  }
 ],
 "metadata": {
  "kernelspec": {
   "display_name": "Python 3",
   "language": "python",
   "name": "python3"
  },
  "language_info": {
   "codemirror_mode": {
    "name": "ipython",
    "version": 3
   },
   "file_extension": ".py",
   "mimetype": "text/x-python",
   "name": "python",
   "nbconvert_exporter": "python",
   "pygments_lexer": "ipython3",
   "version": "3.6.8"
  }
 },
 "nbformat": 4,
 "nbformat_minor": 2
}

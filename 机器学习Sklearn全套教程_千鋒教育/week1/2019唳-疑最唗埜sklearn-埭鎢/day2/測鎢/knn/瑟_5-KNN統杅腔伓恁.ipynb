{
 "cells": [
  {
   "cell_type": "markdown",
   "metadata": {},
   "source": [
    "### 导包，加载数据"
   ]
  },
  {
   "cell_type": "code",
   "execution_count": 1,
   "metadata": {
    "collapsed": true
   },
   "outputs": [
    {
     "name": "stderr",
     "output_type": "stream",
     "text": [
      "d:\\python3.6.8\\lib\\importlib\\_bootstrap.py:219: RuntimeWarning: numpy.ufunc size changed, may indicate binary incompatibility. Expected 216, got 192\n",
      "  return f(*args, **kwds)\n"
     ]
    }
   ],
   "source": [
    "import numpy as np\n",
    "\n",
    "from sklearn.neighbors import KNeighborsClassifier\n",
    "\n",
    "from sklearn import datasets\n",
    "\n",
    "# model_selection:模型选择\n",
    "# cross_val_score  cross：交叉，validation：验证（测试）\n",
    "# 交叉验证\n",
    "from sklearn.model_selection import cross_val_score"
   ]
  },
  {
   "cell_type": "code",
   "execution_count": 2,
   "metadata": {},
   "outputs": [
    {
     "data": {
      "text/plain": [
       "(150, 4)"
      ]
     },
     "execution_count": 2,
     "metadata": {},
     "output_type": "execute_result"
    }
   ],
   "source": [
    "X,y = datasets.load_iris(True)\n",
    "X.shape"
   ]
  },
  {
   "cell_type": "code",
   "execution_count": 3,
   "metadata": {},
   "outputs": [
    {
     "data": {
      "text/plain": [
       "12.24744871391589"
      ]
     },
     "execution_count": 3,
     "metadata": {},
     "output_type": "execute_result"
    }
   ],
   "source": [
    "# 参考\n",
    "150**0.5\n",
    "# K 选择 1 ~ 13"
   ]
  },
  {
   "cell_type": "markdown",
   "metadata": {},
   "source": [
    "### cross_val_score交叉验证删选最合适参数"
   ]
  },
  {
   "cell_type": "code",
   "execution_count": 6,
   "metadata": {},
   "outputs": [
    {
     "data": {
      "text/plain": [
       "0.9666666666666668"
      ]
     },
     "execution_count": 6,
     "metadata": {},
     "output_type": "execute_result"
    }
   ],
   "source": [
    "# 演示了交叉验证，如何使用\n",
    "knn = KNeighborsClassifier()\n",
    "score = cross_val_score(knn,X,y,scoring='accuracy',cv = 10)\n",
    "score.mean()"
   ]
  },
  {
   "cell_type": "markdown",
   "metadata": {},
   "source": [
    "### 应用cross_val_score筛选最合适的邻居数量"
   ]
  },
  {
   "cell_type": "code",
   "execution_count": 7,
   "metadata": {},
   "outputs": [],
   "source": [
    "erros = []\n",
    "for k in range(1,14):\n",
    "    knn = KNeighborsClassifier(n_neighbors=k)\n",
    "    score = cross_val_score(knn,X,y,scoring='accuracy',cv = 6).mean()\n",
    "#     误差越小，说明k选择越合适，越好\n",
    "    erros.append(1 - score)"
   ]
  },
  {
   "cell_type": "code",
   "execution_count": 8,
   "metadata": {
    "collapsed": true
   },
   "outputs": [
    {
     "data": {
      "text/plain": [
       "[<matplotlib.lines.Line2D at 0x19674161a58>]"
      ]
     },
     "execution_count": 8,
     "metadata": {},
     "output_type": "execute_result"
    },
    {
     "data": {
      "image/png": "[encoded data removed]",
      "text/plain": [
       "<Figure size 432x288 with 1 Axes>"
      ]
     },
     "metadata": {
      "needs_background": "light"
     },
     "output_type": "display_data"
    }
   ],
   "source": [
    "import matplotlib.pyplot as plt\n",
    "%matplotlib inline\n",
    "# k = 11时，误差最小，说明k = 11对鸢尾花来说，最合适的k值\n",
    "plt.plot(np.arange(1,14),erros)"
   ]
  },
  {
   "cell_type": "markdown",
   "metadata": {},
   "source": [
    "### 多参数组合使用cross_val_score筛选最合适的参数组合"
   ]
  },
  {
   "cell_type": "markdown",
   "metadata": {},
   "source": [
    "### 模型如何调参的，参数调节"
   ]
  },
  {
   "cell_type": "code",
   "execution_count": 12,
   "metadata": {
    "collapsed": true
   },
   "outputs": [
    {
     "data": {
      "text/plain": [
       "{'uniform1': 0.9591049382716049,\n",
       " 'distance1': 0.9591049382716049,\n",
       " 'uniform2': 0.9390432098765431,\n",
       " 'distance2': 0.9591049382716049,\n",
       " 'uniform3': 0.9660493827160493,\n",
       " 'distance3': 0.9660493827160493,\n",
       " 'uniform4': 0.9660493827160493,\n",
       " 'distance4': 0.9660493827160493,\n",
       " 'uniform5': 0.9660493827160493,\n",
       " 'distance5': 0.9660493827160493,\n",
       " 'uniform6': 0.9729938271604938,\n",
       " 'distance6': 0.9729938271604938,\n",
       " 'uniform7': 0.9729938271604938,\n",
       " 'distance7': 0.9729938271604938,\n",
       " 'uniform8': 0.9591049382716049,\n",
       " 'distance8': 0.9729938271604938,\n",
       " 'uniform9': 0.9660493827160493,\n",
       " 'distance9': 0.9729938271604938,\n",
       " 'uniform10': 0.9729938271604938,\n",
       " 'distance10': 0.9729938271604938,\n",
       " 'uniform11': 0.98070987654321,\n",
       " 'distance11': 0.9799382716049383,\n",
       " 'uniform12': 0.9737654320987654,\n",
       " 'distance12': 0.9799382716049383,\n",
       " 'uniform13': 0.9737654320987654,\n",
       " 'distance13': 0.9729938271604938}"
      ]
     },
     "execution_count": 12,
     "metadata": {},
     "output_type": "execute_result"
    }
   ],
   "source": [
    "result = {}\n",
    "for k in range(1,14):\n",
    "    for w in weights:\n",
    "        knn = KNeighborsClassifier(n_neighbors=k,weights=w)\n",
    "        sm = cross_val_score(knn,X,y,scoring='accuracy',cv = 6).mean()\n",
    "        result[w + str(k)] = sm\n",
    "result"
   ]
  },
  {
   "cell_type": "code",
   "execution_count": 22,
   "metadata": {
    "scrolled": true
   },
   "outputs": [
    {
     "data": {
      "text/plain": [
       "20"
      ]
     },
     "execution_count": 22,
     "metadata": {},
     "output_type": "execute_result"
    }
   ],
   "source": [
    "np.array(list(result.values())).argmax()"
   ]
  },
  {
   "cell_type": "code",
   "execution_count": 23,
   "metadata": {},
   "outputs": [
    {
     "data": {
      "text/plain": [
       "'uniform11'"
      ]
     },
     "execution_count": 23,
     "metadata": {},
     "output_type": "execute_result"
    }
   ],
   "source": [
    "list(result)[20]"
   ]
  }
 ],
 "metadata": {
  "kernelspec": {
   "display_name": "Python 3",
   "language": "python",
   "name": "python3"
  },
  "language_info": {
   "codemirror_mode": {
    "name": "ipython",
    "version": 3
   },
   "file_extension": ".py",
   "mimetype": "text/x-python",
   "name": "python",
   "nbconvert_exporter": "python",
   "pygments_lexer": "ipython3",
   "version": "3.6.8"
  }
 },
 "nbformat": 4,
 "nbformat_minor": 2
}

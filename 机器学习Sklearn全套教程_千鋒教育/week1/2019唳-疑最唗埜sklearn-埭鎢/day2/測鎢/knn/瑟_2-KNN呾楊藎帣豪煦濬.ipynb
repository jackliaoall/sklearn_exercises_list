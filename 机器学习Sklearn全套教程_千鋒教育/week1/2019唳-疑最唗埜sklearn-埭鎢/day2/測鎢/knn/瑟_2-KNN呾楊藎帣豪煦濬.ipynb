{
 "cells": [
  {
   "cell_type": "code",
   "execution_count": 2,
   "metadata": {
    "collapsed": true
   },
   "outputs": [
    {
     "name": "stderr",
     "output_type": "stream",
     "text": [
      "d:\\python3.6.8\\lib\\importlib\\_bootstrap.py:219: RuntimeWarning: numpy.ufunc size changed, may indicate binary incompatibility. Expected 216, got 192\n",
      "  return f(*args, **kwds)\n"
     ]
    }
   ],
   "source": [
    "import numpy as np\n",
    "\n",
    "from sklearn.neighbors import KNeighborsClassifier\n",
    "\n",
    "from sklearn import datasets"
   ]
  },
  {
   "cell_type": "markdown",
   "metadata": {},
   "source": [
    "![](https://timgsa.baidu.com/timg?image&quality=80&size=b9999_10000&sec=1574058780346&di=e7df2620eb8a6cea7cbb1067c99e57bc&imgtype=0&src=http%3A%2F%2Fb-ssl.duitang.com%2Fuploads%2Fitem%2F201701%2F27%2F20170127084705_nSrBk.jpeg)"
   ]
  },
  {
   "cell_type": "code",
   "execution_count": 4,
   "metadata": {
    "scrolled": false
   },
   "outputs": [
    {
     "data": {
      "text/plain": [
       "(150, 4)"
      ]
     },
     "execution_count": 4,
     "metadata": {},
     "output_type": "execute_result"
    }
   ],
   "source": [
    "# 鸢尾花，因为自然环境不同，所以类别可以细分\n",
    "iris = datasets.load_iris()\n",
    "X = iris['data']\n",
    "y = iris['target']\n",
    "# 150代表着150个样本，4代表着4个属性：花萼长、宽；花瓣长、宽\n",
    "X.shape"
   ]
  },
  {
   "cell_type": "code",
   "execution_count": 6,
   "metadata": {
    "collapsed": true
   },
   "outputs": [
    {
     "data": {
      "text/plain": [
       "array([  0,   1,   2,   3,   4,   5,   6,   7,   8,   9,  10,  11,  12,\n",
       "        13,  14,  15,  16,  17,  18,  19,  20,  21,  22,  23,  24,  25,\n",
       "        26,  27,  28,  29,  30,  31,  32,  33,  34,  35,  36,  37,  38,\n",
       "        39,  40,  41,  42,  43,  44,  45,  46,  47,  48,  49,  50,  51,\n",
       "        52,  53,  54,  55,  56,  57,  58,  59,  60,  61,  62,  63,  64,\n",
       "        65,  66,  67,  68,  69,  70,  71,  72,  73,  74,  75,  76,  77,\n",
       "        78,  79,  80,  81,  82,  83,  84,  85,  86,  87,  88,  89,  90,\n",
       "        91,  92,  93,  94,  95,  96,  97,  98,  99, 100, 101, 102, 103,\n",
       "       104, 105, 106, 107, 108, 109, 110, 111, 112, 113, 114, 115, 116,\n",
       "       117, 118, 119, 120, 121, 122, 123, 124, 125, 126, 127, 128, 129,\n",
       "       130, 131, 132, 133, 134, 135, 136, 137, 138, 139, 140, 141, 142,\n",
       "       143, 144, 145, 146, 147, 148, 149])"
      ]
     },
     "execution_count": 6,
     "metadata": {},
     "output_type": "execute_result"
    }
   ],
   "source": [
    "# 将数据划分，一分为二：一部分用于训练，另一部分用测试\n",
    "# 将顺序打乱\n",
    "index = np.arange(150)\n",
    "index"
   ]
  },
  {
   "cell_type": "code",
   "execution_count": 7,
   "metadata": {
    "collapsed": true
   },
   "outputs": [
    {
     "data": {
      "text/plain": [
       "array([  3, 109, 118,  65,  46, 122,  26,  97, 133,  64, 114, 145, 110,\n",
       "       119,  33,  36,  40, 111,  82, 129,  66,  15, 127,  81, 135, 112,\n",
       "        39,  30, 107,  75,  28, 105,  27, 103, 148,  93,  10,  63,  86,\n",
       "        52, 139, 124,  24,  90, 115, 149,  42,  84,  18, 143, 132,  94,\n",
       "       137,  77,  62,  78,  41, 123,   5,  56,   7,  68, 142,  37,   9,\n",
       "         1, 134,  51,  95,  49,  92,  34,  98, 117,  87,  89, 144,  44,\n",
       "        59, 100,   6, 130,  58,  74, 146,  67, 102, 125,   4,   8,   0,\n",
       "        69,  72,  29,  20, 128, 126,  76,  22,  70,  14,  25,  11, 101,\n",
       "       136,  91,  43,  48,  54, 140,  13,  35,  17,  16, 138,  55,  99,\n",
       "        60, 116,  38,  83,  31, 113,  88,  73, 104,  80,  71, 141,  19,\n",
       "        23, 131,  32,  57,  85, 108,  96,  50,  12,  45,  47, 106, 147,\n",
       "         2,  61, 121, 120,  53,  79,  21])"
      ]
     },
     "execution_count": 7,
     "metadata": {},
     "output_type": "execute_result"
    }
   ],
   "source": [
    "# 打乱顺序\n",
    "np.random.shuffle(index)\n",
    "index"
   ]
  },
  {
   "cell_type": "code",
   "execution_count": 11,
   "metadata": {},
   "outputs": [],
   "source": [
    "# 150个数据将打乱顺序100个取出来，算法学习，留下50个使用算法预测(验证算法是否可靠)\n",
    "# 应用到实际中，要获取现实中的数据，算法对数据进行分类-------->上线：实时进行分类\n",
    "X_train,X_test = X[index[:100]],X[index[100:]]\n",
    "\n",
    "y_train,y_test = y[index[:100]],y[index[-50:]]"
   ]
  },
  {
   "cell_type": "code",
   "execution_count": 43,
   "metadata": {},
   "outputs": [
    {
     "data": {
      "text/plain": [
       "0.96"
      ]
     },
     "execution_count": 43,
     "metadata": {},
     "output_type": "execute_result"
    }
   ],
   "source": [
    "# 数据简单，只有4个属性\n",
    "# p = 1 距离度量采用的是：曼哈顿距离\n",
    "# p = 2 距离度量采用的是：欧氏距离\n",
    "# 100**0.5 = 10\n",
    "knn = KNeighborsClassifier(n_neighbors= 5,weights='distance',p = 1,n_jobs = 4)\n",
    "\n",
    "knn.fit(X_train,y_train)\n",
    "\n",
    "y_ = knn.predict(X_test)\n",
    "\n",
    "knn.score(X_test,y_test)"
   ]
  },
  {
   "cell_type": "code",
   "execution_count": 20,
   "metadata": {},
   "outputs": [
    {
     "data": {
      "text/plain": [
       "array([0, 0, 0, 2, 2, 1, 0, 0, 1, 2, 0, 0, 0, 0, 2, 1, 1, 1, 2, 0, 2, 0,\n",
       "       2, 1, 1, 2, 1, 1, 2, 0, 0, 2, 0, 1, 1, 2, 1, 1, 0, 0, 0, 1, 2, 0,\n",
       "       1, 2, 2, 1, 1, 0])"
      ]
     },
     "execution_count": 20,
     "metadata": {},
     "output_type": "execute_result"
    }
   ],
   "source": [
    "y_"
   ]
  },
  {
   "cell_type": "code",
   "execution_count": 19,
   "metadata": {
    "collapsed": true
   },
   "outputs": [
    {
     "data": {
      "text/plain": [
       "array([[1. , 0. , 0. ],\n",
       "       [1. , 0. , 0. ],\n",
       "       [1. , 0. , 0. ],\n",
       "       [0. , 0. , 1. ],\n",
       "       [0. , 0. , 1. ],\n",
       "       [0. , 1. , 0. ],\n",
       "       [1. , 0. , 0. ],\n",
       "       [1. , 0. , 0. ],\n",
       "       [0. , 1. , 0. ],\n",
       "       [0. , 0. , 1. ],\n",
       "       [1. , 0. , 0. ],\n",
       "       [1. , 0. , 0. ],\n",
       "       [1. , 0. , 0. ],\n",
       "       [1. , 0. , 0. ],\n",
       "       [0. , 0.2, 0.8],\n",
       "       [0. , 1. , 0. ],\n",
       "       [0. , 1. , 0. ],\n",
       "       [0. , 1. , 0. ],\n",
       "       [0. , 0. , 1. ],\n",
       "       [1. , 0. , 0. ],\n",
       "       [0. , 0. , 1. ],\n",
       "       [1. , 0. , 0. ],\n",
       "       [0. , 0. , 1. ],\n",
       "       [0. , 1. , 0. ],\n",
       "       [0. , 1. , 0. ],\n",
       "       [0. , 0. , 1. ],\n",
       "       [0. , 1. , 0. ],\n",
       "       [0. , 1. , 0. ],\n",
       "       [0. , 0. , 1. ],\n",
       "       [1. , 0. , 0. ],\n",
       "       [1. , 0. , 0. ],\n",
       "       [0. , 0. , 1. ],\n",
       "       [1. , 0. , 0. ],\n",
       "       [0. , 1. , 0. ],\n",
       "       [0. , 1. , 0. ],\n",
       "       [0. , 0. , 1. ],\n",
       "       [0. , 1. , 0. ],\n",
       "       [0. , 1. , 0. ],\n",
       "       [1. , 0. , 0. ],\n",
       "       [1. , 0. , 0. ],\n",
       "       [1. , 0. , 0. ],\n",
       "       [0. , 1. , 0. ],\n",
       "       [0. , 0. , 1. ],\n",
       "       [1. , 0. , 0. ],\n",
       "       [0. , 1. , 0. ],\n",
       "       [0. , 0.2, 0.8],\n",
       "       [0. , 0. , 1. ],\n",
       "       [0. , 1. , 0. ],\n",
       "       [0. , 1. , 0. ],\n",
       "       [1. , 0. , 0. ]])"
      ]
     },
     "execution_count": 19,
     "metadata": {},
     "output_type": "execute_result"
    }
   ],
   "source": [
    "# 算法返回的结果，使用 bianliang_接收：约定俗成变量命名规则\n",
    "proba_ = knn.predict_proba(X_test)\n",
    "proba_"
   ]
  },
  {
   "cell_type": "code",
   "execution_count": 22,
   "metadata": {},
   "outputs": [
    {
     "data": {
      "text/plain": [
       "array(['setosa', 'versicolor', 'virginica'], dtype='<U10')"
      ]
     },
     "execution_count": 22,
     "metadata": {},
     "output_type": "execute_result"
    }
   ],
   "source": [
    "iris.target_names\n",
    "# setosa --- 0\n",
    "# versicolor  = 1\n",
    "# virginica = 2"
   ]
  },
  {
   "cell_type": "code",
   "execution_count": 21,
   "metadata": {},
   "outputs": [
    {
     "data": {
      "text/plain": [
       "array([0, 0, 0, 2, 2, 1, 0, 0, 1, 2, 0, 0, 0, 0, 2, 1, 1, 1, 2, 0, 2, 0,\n",
       "       2, 1, 1, 2, 1, 1, 2, 0, 0, 2, 0, 1, 1, 2, 1, 1, 0, 0, 0, 1, 2, 0,\n",
       "       1, 2, 2, 1, 1, 0], dtype=int64)"
      ]
     },
     "execution_count": 21,
     "metadata": {},
     "output_type": "execute_result"
    }
   ],
   "source": [
    "# 返回最大值的索引，鸢尾花的类别\n",
    "proba_.argmax(axis = 1)"
   ]
  },
  {
   "cell_type": "code",
   "execution_count": 18,
   "metadata": {
    "scrolled": true
   },
   "outputs": [
    {
     "data": {
      "text/plain": [
       "0.96"
      ]
     },
     "execution_count": 18,
     "metadata": {},
     "output_type": "execute_result"
    }
   ],
   "source": [
    "# 进行了封装\n",
    "knn.score(X_test,y_test)"
   ]
  },
  {
   "cell_type": "code",
   "execution_count": 13,
   "metadata": {
    "collapsed": true
   },
   "outputs": [
    {
     "name": "stdout",
     "output_type": "stream",
     "text": [
      "[0 0 0 2 2 1 0 0 1 2 0 0 0 0 2 1 1 1 2 0 2 0 2 1 1 2 1 1 2 0 0 2 0 1 1 2 1\n",
      " 1 0 0 0 1 2 0 1 2 2 1 1 0]\n",
      "--------------\n",
      "[0 0 0 2 2 1 0 0 1 2 0 0 0 0 2 1 1 1 2 0 1 0 2 1 1 2 1 1 2 0 0 2 0 1 1 2 1\n",
      " 1 0 0 0 2 2 0 1 2 2 1 1 0]\n"
     ]
    }
   ],
   "source": [
    "# 对比，看算法，预测的和真实的结果，是否对应\n",
    "# 对应，大部分正确：算法没问题\n",
    "# 不然，说明算法效果不好\n",
    "print(y_)\n",
    "print('--------------')\n",
    "print(y_test)"
   ]
  },
  {
   "cell_type": "code",
   "execution_count": 17,
   "metadata": {},
   "outputs": [
    {
     "data": {
      "text/plain": [
       "0.96"
      ]
     },
     "execution_count": 17,
     "metadata": {},
     "output_type": "execute_result"
    }
   ],
   "source": [
    "# 准确率\n",
    "(y_ == y_test).sum()/50"
   ]
  }
 ],
 "metadata": {
  "kernelspec": {
   "display_name": "Python 3",
   "language": "python",
   "name": "python3"
  },
  "language_info": {
   "codemirror_mode": {
    "name": "ipython",
    "version": 3
   },
   "file_extension": ".py",
   "mimetype": "text/x-python",
   "name": "python",
   "nbconvert_exporter": "python",
   "pygments_lexer": "ipython3",
   "version": "3.6.8"
  }
 },
 "nbformat": 4,
 "nbformat_minor": 2
}

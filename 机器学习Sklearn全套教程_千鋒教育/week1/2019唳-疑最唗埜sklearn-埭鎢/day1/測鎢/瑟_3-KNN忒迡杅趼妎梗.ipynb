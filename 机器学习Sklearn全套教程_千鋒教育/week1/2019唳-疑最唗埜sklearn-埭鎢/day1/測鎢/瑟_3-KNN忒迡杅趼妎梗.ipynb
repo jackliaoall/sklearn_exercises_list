{
 "cells": [
  {
   "cell_type": "code",
   "execution_count": 1,
   "metadata": {},
   "outputs": [],
   "source": [
    "import numpy as np\n",
    "\n",
    "import cv2\n",
    "\n",
    "import matplotlib.pyplot as plt\n",
    "%matplotlib inline\n",
    "\n",
    "from sklearn.neighbors import KNeighborsClassifier"
   ]
  },
  {
   "cell_type": "code",
   "execution_count": 5,
   "metadata": {},
   "outputs": [
    {
     "data": {
      "text/plain": [
       "(28, 28)"
      ]
     },
     "execution_count": 5,
     "metadata": {},
     "output_type": "execute_result"
    }
   ],
   "source": [
    "# bitmap 位图\n",
    "digit = cv2.imread('./data/0/0_101.bmp')\n",
    "\n",
    "# 将彩色（三维的）图片转化成黑白的（图片灰度化处理）：大大降低数据量\n",
    "digit = cv2.cvtColor(digit,code = cv2.COLOR_BGR2GRAY)\n",
    "\n",
    "# (28,28,3) ----------> (28,28)\n",
    "#  数据量大大减少了2/3，只有原来的1/3\n",
    "\n",
    "digit.shape"
   ]
  },
  {
   "cell_type": "markdown",
   "metadata": {},
   "source": [
    "### 加载数据，处理（灰度化）"
   ]
  },
  {
   "cell_type": "code",
   "execution_count": 73,
   "metadata": {},
   "outputs": [],
   "source": [
    "X = []\n",
    "for i in range(10):\n",
    "    for j in range(1,501):\n",
    "        digit = cv2.imread('./data/%d/%d_%d.bmp'%(i,i,j))\n",
    "        X.append(digit[:,:,0])\n",
    "# 数据X和目标值y是一一对应\n",
    "X = np.asarray(X) # numpy对象\n",
    "y = np.array([i for i in range(10)]*500)\n",
    "y.sort()"
   ]
  },
  {
   "cell_type": "code",
   "execution_count": 24,
   "metadata": {
    "collapsed": true
   },
   "outputs": [
    {
     "name": "stdout",
     "output_type": "stream",
     "text": [
      "----------------------- 3\n"
     ]
    },
    {
     "data": {
      "text/plain": [
       "<matplotlib.image.AxesImage at 0x1e127915208>"
      ]
     },
     "execution_count": 24,
     "metadata": {},
     "output_type": "execute_result"
    },
    {
     "data": {
      "image/png": "[encoded data removed]",
      "text/plain": [
       "<Figure size 432x288 with 1 Axes>"
      ]
     },
     "metadata": {
      "needs_background": "light"
     },
     "output_type": "display_data"
    }
   ],
   "source": [
    "# digit二维的，高度，宽度，像素（只有一个值）--------用什么颜色表示呢？\n",
    "# 选择黑白，图片show就是黑白，rainbow显示出来，彩虹效果\n",
    "\n",
    "index = np.random.randint(0,5000,size = 1)[0]\n",
    "\n",
    "digit = X[index]\n",
    "\n",
    "print('-----------------------',y[index])\n",
    "\n",
    "plt.imshow(digit,cmap = plt.cm.gray)"
   ]
  },
  {
   "cell_type": "markdown",
   "metadata": {},
   "source": [
    "### X,y划分成训练和验证数据\n"
   ]
  },
  {
   "cell_type": "code",
   "execution_count": 25,
   "metadata": {},
   "outputs": [],
   "source": [
    "# 模型选择，可以打乱顺序，按照比例进行划分\n",
    "from sklearn.model_selection import train_test_split"
   ]
  },
  {
   "cell_type": "code",
   "execution_count": 26,
   "metadata": {},
   "outputs": [],
   "source": [
    "# test_size = 0.2,train_size = 0.8\n",
    "# 训练：测试= 4:1\n",
    "# 一一对应的\n",
    "X_train,X_test,y_train,y_test = train_test_split(X,y,test_size = 0.2,random_state = 100)"
   ]
  },
  {
   "cell_type": "markdown",
   "metadata": {},
   "source": [
    "### 算法训练和预测（验证）"
   ]
  },
  {
   "cell_type": "code",
   "execution_count": 30,
   "metadata": {},
   "outputs": [
    {
     "data": {
      "text/plain": [
       "63.245553203367585"
      ]
     },
     "execution_count": 30,
     "metadata": {},
     "output_type": "execute_result"
    }
   ],
   "source": [
    "4000**0.5"
   ]
  },
  {
   "cell_type": "code",
   "execution_count": 33,
   "metadata": {},
   "outputs": [
    {
     "data": {
      "text/plain": [
       "(4000, 784)"
      ]
     },
     "execution_count": 33,
     "metadata": {},
     "output_type": "execute_result"
    }
   ],
   "source": [
    "# 数据不合要求，reshape形状改变\n",
    "# 数据不变\n",
    "# 三维的数据--------->变成2维\n",
    "X_train = X_train.reshape(4000,-1)\n",
    "X_train.shape"
   ]
  },
  {
   "cell_type": "code",
   "execution_count": 42,
   "metadata": {
    "scrolled": true
   },
   "outputs": [
    {
     "name": "stdout",
     "output_type": "stream",
     "text": [
      "0.881\n",
      "Wall time: 8.6 s\n"
     ]
    }
   ],
   "source": [
    "%%time\n",
    "knn = KNeighborsClassifier(n_neighbors= 63)\n",
    "\n",
    "knn.fit(X_train,y_train)\n",
    "\n",
    "# 使用算法进行预测\n",
    "# 保留了1000个数据，算法‘没见过‘这1000个数据\n",
    "X_test = X_test.reshape(1000,784)\n",
    "y_ = knn.predict(X_test)\n",
    "# 准确率\n",
    "# (y_ == y_test).sum()/1000\n",
    "print((y_ == y_test).mean())"
   ]
  },
  {
   "cell_type": "code",
   "execution_count": 43,
   "metadata": {},
   "outputs": [
    {
     "name": "stdout",
     "output_type": "stream",
     "text": [
      "0.929\n",
      "Wall time: 8.47 s\n"
     ]
    }
   ],
   "source": [
    "%%time\n",
    "# 参数n_neighbors = 5告诉计算机找到最近的5个邻居\n",
    "# 计算所有，找到最小的5个距离，最近的5个邻居\n",
    "knn = KNeighborsClassifier(n_neighbors= 5)\n",
    "knn.fit(X_train,y_train)\n",
    "# 使用算法进行预测\n",
    "# 保留了1000个数据，算法‘没见过‘这1000个数据\n",
    "X_test = X_test.reshape(1000,784)\n",
    "# 取出一个，找这一个5个邻居（4000个数据中）-----> 遍历------->d[:5]\n",
    "# 取出一个，找这一个63个邻居（4000个数据中）-----> 遍历------>d[:63]\n",
    "y_ = knn.predict(X_test)\n",
    "\n",
    "# 准确率\n",
    "# (y_ == y_test).sum()/1000\n",
    "print((y_ == y_test).mean())"
   ]
  },
  {
   "cell_type": "code",
   "execution_count": 44,
   "metadata": {},
   "outputs": [
    {
     "name": "stdout",
     "output_type": "stream",
     "text": [
      "0.95425\n",
      "Wall time: 32.3 s\n"
     ]
    }
   ],
   "source": [
    "%%time\n",
    "# 参数n_neighbors = 5告诉计算机找到最近的5个邻居\n",
    "# 计算所有，找到最小的5个距离，最近的5个邻居\n",
    "knn = KNeighborsClassifier(n_neighbors= 5)\n",
    "knn.fit(X_train,y_train) #算法训练（学习）4000个数据\n",
    "# 使用算法进行预测\n",
    "# 保留了1000个数据，算法‘没见过‘这1000个数据\n",
    "X_test = X_test.reshape(1000,784)\n",
    "# 取出一个，找这一个5个邻居（4000个数据中）-----> 遍历------->d[:5]\n",
    "# 取出一个，找这一个63个邻居（4000个数据中）-----> 遍历------>d[:63]\n",
    "y_ = knn.predict(X_train) #算法预测4000个数据\n",
    "\n",
    "# 准确率是否可以100% ？？？\n",
    "# (y_ == y_test).sum()/1000\n",
    "print((y_ == y_train).mean())"
   ]
  },
  {
   "cell_type": "code",
   "execution_count": 45,
   "metadata": {},
   "outputs": [
    {
     "name": "stdout",
     "output_type": "stream",
     "text": [
      "0.95425\n",
      "Wall time: 6.97 s\n"
     ]
    }
   ],
   "source": [
    "%%time\n",
    "# 参数n_neighbors = 5告诉计算机找到最近的5个邻居\n",
    "# 计算所有，找到最小的5个距离，最近的5个邻居\n",
    "knn = KNeighborsClassifier(n_neighbors= 5,n_jobs=-1)\n",
    "# 算法是‘学习‘，不是死记硬背，存到数据库一样，进行一一对比\n",
    "knn.fit(X_train,y_train) #算法训练（学习）4000个数据\n",
    "# 使用算法进行预测\n",
    "# 保留了1000个数据，算法‘没见过‘这1000个数据\n",
    "X_test = X_test.reshape(1000,784)\n",
    "# 取出一个，找这一个5个邻居（4000个数据中）-----> 遍历------->d[:5]\n",
    "# 取出一个，找这一个63个邻居（4000个数据中）-----> 遍历------>d[:63]\n",
    "y_ = knn.predict(X_train) #算法预测4000个数据\n",
    "\n",
    "# 准确率是否可以100% ？？？\n",
    "# (y_ == y_test).sum()/1000\n",
    "print((y_ == y_train).mean())"
   ]
  },
  {
   "cell_type": "code",
   "execution_count": 74,
   "metadata": {},
   "outputs": [
    {
     "name": "stdout",
     "output_type": "stream",
     "text": [
      "-----------------数据没有进行二值化处理多次划分训练预测的平均准确率：0.931\n",
      "Wall time: 1min 1s\n"
     ]
    }
   ],
   "source": [
    "%%time\n",
    "accuracy = 0\n",
    "for i in range(30):\n",
    "    X_train,X_test,y_train,y_test = train_test_split(X,y,test_size = 0.2)\n",
    "    # 参数n_neighbors = 5告诉计算机找到最近的5个邻居\n",
    "    # 计算所有，找到最小的5个距离，最近的5个邻居\n",
    "    knn = KNeighborsClassifier(n_neighbors= 5,n_jobs=-1)\n",
    "    # 算法是‘学习‘，不是死记硬背，存到数据库一样，进行一一对比\n",
    "    knn.fit(X_train.reshape(4000,-1),y_train) #算法训练（学习）4000个数据\n",
    "    # 使用算法进行预测\n",
    "    # 保留了1000个数据，算法‘没见过‘这1000个数据\n",
    "    X_test = X_test.reshape(1000,784)\n",
    "    # 取出一个，找这一个5个邻居（4000个数据中）-----> 遍历------->d[:5]\n",
    "    # 取出一个，找这一个63个邻居（4000个数据中）-----> 遍历------>d[:63]\n",
    "    y_ = knn.predict(X_test.reshape(1000,-1)) #算法预测4000个数据\n",
    "\n",
    "    # 准确率是否可以100% ？？？\n",
    "    # (y_ == y_test).sum()/1000\n",
    "    accuracy += (y_ == y_test).mean()/30\n",
    "print('-----------------数据没有进行二值化处理多次划分训练预测的平均准确率：%0.3f'%(accuracy))"
   ]
  },
  {
   "cell_type": "code",
   "execution_count": 49,
   "metadata": {},
   "outputs": [],
   "source": [
    "# 二值化操作\n",
    "for i in range(5000):\n",
    "    for y in range(28):\n",
    "        for x in range(28):\n",
    "            if X[i][y,x] < 200:\n",
    "                X[i][y,x] = 0\n",
    "            else:\n",
    "                X[i][y,x] = 255"
   ]
  },
  {
   "cell_type": "code",
   "execution_count": 52,
   "metadata": {
    "collapsed": true
   },
   "outputs": [
    {
     "data": {
      "text/plain": [
       "<matplotlib.image.AxesImage at 0x1e12da0c9b0>"
      ]
     },
     "execution_count": 52,
     "metadata": {},
     "output_type": "execute_result"
    },
    {
     "data": {
      "image/png": "[encoded data removed]",
      "text/plain": [
       "<Figure size 432x288 with 1 Axes>"
      ]
     },
     "metadata": {
      "needs_background": "light"
     },
     "output_type": "display_data"
    }
   ],
   "source": [
    "index = np.random.randint(0,5000,size = 1)[0]\n",
    "plt.imshow(X[index],cmap = 'gray')"
   ]
  },
  {
   "cell_type": "code",
   "execution_count": null,
   "metadata": {},
   "outputs": [],
   "source": [
    "5000 ----->4000,1000"
   ]
  },
  {
   "cell_type": "markdown",
   "metadata": {},
   "source": [
    "$$C^{1000}_{5000}$$"
   ]
  },
  {
   "cell_type": "code",
   "execution_count": 57,
   "metadata": {},
   "outputs": [
    {
     "data": {
      "text/plain": [
       "array([0, 0, 0, ..., 9, 9, 9])"
      ]
     },
     "execution_count": 57,
     "metadata": {},
     "output_type": "execute_result"
    }
   ],
   "source": [
    "y = np.array([i for i in range(10)]*500)\n",
    "y.sort()\n",
    "y"
   ]
  },
  {
   "cell_type": "code",
   "execution_count": 72,
   "metadata": {},
   "outputs": [
    {
     "name": "stdout",
     "output_type": "stream",
     "text": [
      "-----------------多次划分训练预测的平均准确率：0.930\n",
      "Wall time: 1min 3s\n"
     ]
    }
   ],
   "source": [
    "%%time\n",
    "accuracy = 0\n",
    "for i in range(30):\n",
    "    X_train,X_test,y_train,y_test = train_test_split(X,y,test_size = 0.2)\n",
    "    # 参数n_neighbors = 5告诉计算机找到最近的5个邻居\n",
    "    # 计算所有，找到最小的5个距离，最近的5个邻居\n",
    "    knn = KNeighborsClassifier(n_neighbors= 5,n_jobs=-1)\n",
    "    # 算法是‘学习‘，不是死记硬背，存到数据库一样，进行一一对比\n",
    "    knn.fit(X_train.reshape(4000,-1),y_train) #算法训练（学习）4000个数据\n",
    "    # 使用算法进行预测\n",
    "    # 保留了1000个数据，算法‘没见过‘这1000个数据\n",
    "    X_test = X_test.reshape(1000,784)\n",
    "    # 取出一个，找这一个5个邻居（4000个数据中）-----> 遍历------->d[:5]\n",
    "    # 取出一个，找这一个63个邻居（4000个数据中）-----> 遍历------>d[:63]\n",
    "    y_ = knn.predict(X_test.reshape(1000,-1)) #算法预测4000个数据\n",
    "\n",
    "    # 准确率是否可以100% ？？？\n",
    "    # (y_ == y_test).sum()/1000\n",
    "    accuracy += (y_ == y_test).mean()/30\n",
    "print('-----------------多次划分训练预测的平均准确率：%0.3f'%(accuracy))"
   ]
  },
  {
   "cell_type": "code",
   "execution_count": null,
   "metadata": {},
   "outputs": [],
   "source": [
    "# 自己写手写数字（要求，方格），拍照，传给电脑，处理（28*28像素）----->算法预测\n",
    "# 识别你写的数字是多少"
   ]
  }
 ],
 "metadata": {
  "kernelspec": {
   "display_name": "Python 3",
   "language": "python",
   "name": "python3"
  },
  "language_info": {
   "codemirror_mode": {
    "name": "ipython",
    "version": 3
   },
   "file_extension": ".py",
   "mimetype": "text/x-python",
   "name": "python",
   "nbconvert_exporter": "python",
   "pygments_lexer": "ipython3",
   "version": "3.6.8"
  }
 },
 "nbformat": 4,
 "nbformat_minor": 2
}
